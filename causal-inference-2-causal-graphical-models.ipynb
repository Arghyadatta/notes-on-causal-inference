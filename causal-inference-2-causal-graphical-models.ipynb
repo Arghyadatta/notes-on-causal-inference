{
 "cells": [
  {
   "cell_type": "markdown",
   "metadata": {},
   "source": [
    "$$\n",
    "\\newcommand{P}[1]{\\mathrm{P}\\left( #1 \\right)}\n",
    "\\newcommand{Pc}[2]{\\mathrm{P}\\left( #1 \\mid #2 \\right)}\n",
    "\\newcommand{In}[2]{ #1 \\perp\\!\\!\\!\\perp #2}\n",
    "\\newcommand{Cin}[3]{ #1 \\perp\\!\\!\\!\\perp #2 \\, | \\, #3}\n",
    "\\newcommand{do}[1]{\\mathrm{do}\\left( #1 \\right)}\n",
    "$$"
   ]
  },
  {
   "cell_type": "markdown",
   "metadata": {},
   "source": [
    "In a [previous blog post](http://www.degeneratestate.org/posts/2018/Mar/24/causal-inference-with-python-part-1-potential-outcomes/) I discussed how we can use the idea of [potential outcomes](https://en.wikipedia.org/wiki/Rubin_causal_model) to make causal inferences from observational data. Under the Potential Outcomes framework we treat the counterfactual outcome as if it were [missing data](https://en.wikipedia.org/wiki/Missing_data) and attempt to estimate these missing values from the observed data. To do this we needed to make strong assumptions about the data generating process, specifically \"Strong Ignorability\"\n",
    "\n",
    "$\\Cin{Y_{i}}{X}{Z}$\n",
    "\n",
    "Where $Y_{i}$ are the potential outcomes we are trying to estimate, $X$ is the intervention we are trying to measure and $Z$ are a set of covariates which allow us to \"correct\" our estimate. This statement should be read: \"$Y_{i}$ is conditional independent of $X$ given $Z$\".\n",
    "\n",
    "This is a strong statement about the process which generated our data. In order to understand where strong ignorability hold, we need to make some assumptions about the _structure_ of the data generating process itself. The language we will be using to express this structure is that of Causal Graphical Models. In this post I will try to give an light overview of causal graphical model using a [python package of the same name](https://github.com/ijmbarr/causalgraphicalmodels). \n",
    "\n",
    "Compared to my previous post, this post will be less about techniques to make causal inferences and more on gaining intuition about how we can describe data generating structure and what statements we can make once we have such a description. I am also not going to be playing fast and loose with some of the maths "
   ]
  },
  {
   "cell_type": "markdown",
   "metadata": {},
   "source": [
    "# What is Structure? \n",
    "\n",
    "One way we can try and model the world is through the idea of Structural Causal Models, or [Structural Equation Models](https://en.wikipedia.org/wiki/Structural_equation_modeling): that we can model the relationships between different variables is described by functions. \n",
    "\n",
    "For example, imagine a system of three variables, $x_{1}, x_{2}, x_{3}$. We could imagine they are related in the following way:\n",
    "\n",
    "$x_{1} \\sim \\hbox{Bernoulli}(0.3)$\n",
    "\n",
    "$x_{2} \\sim \\hbox{Normal}(x_{1}, 0.1)$\n",
    "\n",
    "$x_{3} = x_{3}^{2}$\n",
    "\n",
    "$X_{1}$ and $X_{2}$ are samples from random variables, and $X_{3}$ is a deterministic function of $X_{2}$. \n",
    "\n",
    "It is easy to simulate this system in python:"
   ]
  },
  {
   "cell_type": "code",
   "execution_count": 1,
   "metadata": {},
   "outputs": [],
   "source": [
    "# first, import some standard libraries\n",
    "\n",
    "import numpy as np\n",
    "import pandas as pd\n",
    "import matplotlib.pyplot as plt\n",
    "import seaborn as sns\n",
    "\n",
    "%matplotlib inline"
   ]
  },
  {
   "cell_type": "code",
   "execution_count": 2,
   "metadata": {},
   "outputs": [
    {
     "name": "stdout",
     "output_type": "stream",
     "text": [
      "x1 = 0, x2 = 0.07, x3 = 0.01\n"
     ]
    }
   ],
   "source": [
    "def f1(): \n",
    "    return np.random.binomial(n=1,p=0.3)\n",
    "\n",
    "def f2(x1):\n",
    "    return np.random.normal(loc=x1, scale=0.1)\n",
    "    \n",
    "def f3(x2):\n",
    "    return x2 ** 2\n",
    "\n",
    "x1 = f1()\n",
    "x2 = f2(x1)\n",
    "x3 = f3(x2)\n",
    "\n",
    "print(\"x1 = {}, x2 = {:.2f}, x3 = {:.2f}\".format(x1, x2, x3))"
   ]
  },
  {
   "cell_type": "markdown",
   "metadata": {},
   "source": [
    "Structure is the description of which variables are functions of which other variables. In the above example, `x1` can only influence `x3` _though_ `x2`, no matter what the actual functions are. \n",
    "\n",
    "This way of modeling structure is appealing because it has a natural way to describe interventions: we reach into the system and replace the value of one variable with one we choose. If we replace `x2` with some value `x2_intervention` the system would now be updated according to\n",
    "\n",
    "```python\n",
    "x1 = f1()\n",
    "x2 = x2_intervention\n",
    "x3 = f3(x2)\n",
    "```\n",
    "\n",
    "This has the very measurable consequence that if we intervene on `x2`, `x3` will be independent of `x1`. This wouldn't be the case if the structure had looked something like\n",
    "\n",
    "```python\n",
    "x1 = f1()\n",
    "x2 = f2(x1)\n",
    "x3 = f3(x2, x1)\n",
    "```\n",
    "\n",
    "Here there is no ambiguity about what intervention means, and what the structure of the system is. It might seem too far fetched to assume that _all_ relationships been things we measure can be described this way, but ultimately the justification is the universe is governed by the laws of physics. These functions might be very complicated, stochastic, or unknown, but they exist. \n",
    "\n",
    "The question then becomes: what can we say about interventions when we don't know the true functional relationships, only the structure. \n",
    "\n",
    "Note: This isn't _entirely_ true. Quantum mechanics has some interesting things to say about causality, and if I get the chance, I'll try and write about them. For most causal inference tasks, we can safely ignore quantum effects."
   ]
  },
  {
   "cell_type": "markdown",
   "metadata": {},
   "source": [
    "## Causal Graphical Models\n",
    "\n",
    "Let us begin with a classical example of a causal system: the sprinker. It is a system of five variable which indicate the conditions on a certain day:\n",
    "\n",
    " - $season$: indicates which season it is\n",
    " - $rain$: indicates whether it is raining\n",
    " - $sprinkler$: indicates whether our sprinkler is on\n",
    " - $wet$: indicates whether the group is wet\n",
    " - $slippery$: indicates whether the ground is slippery\n",
    " \n",
    "We know that when it rains, the ground will become wet, however the making the ground wet doesn't cause it to rain. This is exactly the kind of direct relationship that could be described by a function. In the absence of this actual function, we are left with a set of variables and directed relationships between then. A natural way to represent this structure is a directed graph, specifically a [Directed Acyclic Graph](https://en.wikipedia.org/wiki/Directed_acyclic_graph). We require the graph to be acyclic to prevent \"causal loops\".\n",
    "\n",
    "We can create a causal graphical model of this system by specifying the nodes and edges of this graph:"
   ]
  },
  {
   "cell_type": "code",
   "execution_count": 3,
   "metadata": {},
   "outputs": [
    {
     "data": {
      "image/svg+xml": [
       "<?xml version=\"1.0\" encoding=\"UTF-8\" standalone=\"no\"?>\n",
       "<!DOCTYPE svg PUBLIC \"-//W3C//DTD SVG 1.1//EN\"\n",
       " \"http://www.w3.org/Graphics/SVG/1.1/DTD/svg11.dtd\">\n",
       "<!-- Generated by graphviz version 2.38.0 (20140413.2041)\n",
       " -->\n",
       "<!-- Title: %3 Pages: 1 -->\n",
       "<svg width=\"164pt\" height=\"260pt\"\n",
       " viewBox=\"0.00 0.00 164.25 260.00\" xmlns=\"http://www.w3.org/2000/svg\" xmlns:xlink=\"http://www.w3.org/1999/xlink\">\n",
       "<g id=\"graph0\" class=\"graph\" transform=\"scale(1 1) rotate(0) translate(4 256)\">\n",
       "<title>%3</title>\n",
       "<polygon fill=\"white\" stroke=\"none\" points=\"-4,4 -4,-256 160.246,-256 160.246,4 -4,4\"/>\n",
       "<!-- season -->\n",
       "<g id=\"node1\" class=\"node\"><title>season</title>\n",
       "<ellipse fill=\"none\" stroke=\"black\" cx=\"70\" cy=\"-234\" rx=\"34.394\" ry=\"18\"/>\n",
       "<text text-anchor=\"middle\" x=\"70\" y=\"-230.3\" font-family=\"Times,serif\" font-size=\"14.00\">season</text>\n",
       "</g>\n",
       "<!-- rain -->\n",
       "<g id=\"node2\" class=\"node\"><title>rain</title>\n",
       "<ellipse fill=\"none\" stroke=\"black\" cx=\"27\" cy=\"-162\" rx=\"27\" ry=\"18\"/>\n",
       "<text text-anchor=\"middle\" x=\"27\" y=\"-158.3\" font-family=\"Times,serif\" font-size=\"14.00\">rain</text>\n",
       "</g>\n",
       "<!-- season&#45;&gt;rain -->\n",
       "<g id=\"edge1\" class=\"edge\"><title>season&#45;&gt;rain</title>\n",
       "<path fill=\"none\" stroke=\"black\" d=\"M60.0269,-216.765C54.7625,-208.195 48.1892,-197.494 42.2959,-187.9\"/>\n",
       "<polygon fill=\"black\" stroke=\"black\" points=\"45.1356,-185.836 36.9191,-179.147 39.171,-189.5 45.1356,-185.836\"/>\n",
       "</g>\n",
       "<!-- sprinkler -->\n",
       "<g id=\"node3\" class=\"node\"><title>sprinkler</title>\n",
       "<ellipse fill=\"none\" stroke=\"black\" cx=\"114\" cy=\"-162\" rx=\"42.4939\" ry=\"18\"/>\n",
       "<text text-anchor=\"middle\" x=\"114\" y=\"-158.3\" font-family=\"Times,serif\" font-size=\"14.00\">sprinkler</text>\n",
       "</g>\n",
       "<!-- season&#45;&gt;sprinkler -->\n",
       "<g id=\"edge2\" class=\"edge\"><title>season&#45;&gt;sprinkler</title>\n",
       "<path fill=\"none\" stroke=\"black\" d=\"M80.2051,-216.765C85.5149,-208.317 92.1262,-197.799 98.0895,-188.312\"/>\n",
       "<polygon fill=\"black\" stroke=\"black\" points=\"101.186,-189.962 103.545,-179.633 95.2597,-186.237 101.186,-189.962\"/>\n",
       "</g>\n",
       "<!-- wet -->\n",
       "<g id=\"node4\" class=\"node\"><title>wet</title>\n",
       "<ellipse fill=\"none\" stroke=\"black\" cx=\"70\" cy=\"-90\" rx=\"27\" ry=\"18\"/>\n",
       "<text text-anchor=\"middle\" x=\"70\" y=\"-86.3\" font-family=\"Times,serif\" font-size=\"14.00\">wet</text>\n",
       "</g>\n",
       "<!-- rain&#45;&gt;wet -->\n",
       "<g id=\"edge3\" class=\"edge\"><title>rain&#45;&gt;wet</title>\n",
       "<path fill=\"none\" stroke=\"black\" d=\"M36.7574,-145.116C42.1452,-136.345 48.9523,-125.264 55.0015,-115.416\"/>\n",
       "<polygon fill=\"black\" stroke=\"black\" points=\"58.0293,-117.174 60.2812,-106.821 52.0647,-113.51 58.0293,-117.174\"/>\n",
       "</g>\n",
       "<!-- sprinkler&#45;&gt;wet -->\n",
       "<g id=\"edge4\" class=\"edge\"><title>sprinkler&#45;&gt;wet</title>\n",
       "<path fill=\"none\" stroke=\"black\" d=\"M103.573,-144.411C98.1803,-135.832 91.4913,-125.191 85.5066,-115.67\"/>\n",
       "<polygon fill=\"black\" stroke=\"black\" points=\"88.3347,-113.592 80.0497,-106.988 82.4082,-117.317 88.3347,-113.592\"/>\n",
       "</g>\n",
       "<!-- slippery -->\n",
       "<g id=\"node5\" class=\"node\"><title>slippery</title>\n",
       "<ellipse fill=\"none\" stroke=\"black\" cx=\"70\" cy=\"-18\" rx=\"38.9931\" ry=\"18\"/>\n",
       "<text text-anchor=\"middle\" x=\"70\" y=\"-14.3\" font-family=\"Times,serif\" font-size=\"14.00\">slippery</text>\n",
       "</g>\n",
       "<!-- wet&#45;&gt;slippery -->\n",
       "<g id=\"edge5\" class=\"edge\"><title>wet&#45;&gt;slippery</title>\n",
       "<path fill=\"none\" stroke=\"black\" d=\"M70,-71.6966C70,-63.9827 70,-54.7125 70,-46.1124\"/>\n",
       "<polygon fill=\"black\" stroke=\"black\" points=\"73.5001,-46.1043 70,-36.1043 66.5001,-46.1044 73.5001,-46.1043\"/>\n",
       "</g>\n",
       "</g>\n",
       "</svg>\n"
      ],
      "text/plain": [
       "<graphviz.dot.Digraph at 0x7fddf2a996d8>"
      ]
     },
     "execution_count": 3,
     "metadata": {},
     "output_type": "execute_result"
    }
   ],
   "source": [
    "from causalgraphicalmodels import CausalGraphicalModel\n",
    "\n",
    "sprinkler = CausalGraphicalModel(\n",
    "    nodes=[\"season\", \"rain\", \"sprinkler\", \"wet\", \"slippery\"],\n",
    "    edges=[\n",
    "        (\"season\", \"rain\"), \n",
    "        (\"season\", \"sprinkler\"), \n",
    "        (\"rain\", \"wet\"),\n",
    "        (\"sprinkler\", \"wet\"), \n",
    "        (\"wet\", \"slippery\")\n",
    "    ]\n",
    ")\n",
    "\n",
    "# draw return a graphviz `dot` object, which jupyter can render\n",
    "sprinkler.draw()"
   ]
  },
  {
   "cell_type": "markdown",
   "metadata": {},
   "source": [
    "This is a [Probabilistic Graphical Model](https://en.wikipedia.org/wiki/Graphical_model) description of the system (for more information, I recommend this excellent [Coursera Course](https://www.coursera.org/learn/probabilistic-graphical-models) on probabilistic graphical models): a non-parametric model of the structure which generates data.\n",
    "\n",
    "Describing a system in the way implies that the joint probability distribution over all variables can be factored in the following way:\n",
    "\n",
    "$\\P{\\mathbf{X}} = \\prod_{i}\\Pc{X_{i}}{\\hbox{PA}(X_{i})}$\n",
    "\n",
    "Where $\\hbox{PA}(X_{i})$ is the set of parents of the variable $X_{i}$, with respect to the graph.\n",
    "\n",
    "We can get the join probability distribution implied by our causal graphical model using"
   ]
  },
  {
   "cell_type": "code",
   "execution_count": 4,
   "metadata": {},
   "outputs": [
    {
     "name": "stdout",
     "output_type": "stream",
     "text": [
      "P(season)P(sprinkler|season)P(rain|season)P(wet|rain,sprinkler)P(slippery|wet)\n"
     ]
    }
   ],
   "source": [
    "print(sprinkler.get_distribution())"
   ]
  },
  {
   "cell_type": "markdown",
   "metadata": {},
   "source": [
    "This factorization of the joint probability distribution in implies certain [conditional independence](https://en.wikipedia.org/wiki/Conditional_independence) relationships between variables. For example, if we know whether or not the ground is wet, then whether or not it is slippery is independent of the season. In the language of probabilistic graphical models, two variables are conditionally independent given other variables if they are [d-separated](https://www.andrew.cmu.edu/user/scheines/tutor/d-sep.html).\n",
    "\n",
    "I'm not going to go into a full proof of d-separation, but to get some intuition about how it is calculated, consider the skeleton of our DAG (the graph with the same nodes and edges, but no notion of \"direction\"). Two variables can only be related if there are paths between them, so we can limit our attention to the paths between variables. If there is only a single edge between the variables, they cannot be conditionally independent. \n",
    "\n",
    "For paths of three nodes, there are three possible situations, a fork, a chain and a collider, shown below:"
   ]
  },
  {
   "cell_type": "code",
   "execution_count": 5,
   "metadata": {},
   "outputs": [
    {
     "name": "stdout",
     "output_type": "stream",
     "text": [
      "Implied conditional Independence Relationship:  [('x1', 'x3', {'x2'})]\n"
     ]
    },
    {
     "data": {
      "image/svg+xml": [
       "<?xml version=\"1.0\" encoding=\"UTF-8\" standalone=\"no\"?>\n",
       "<!DOCTYPE svg PUBLIC \"-//W3C//DTD SVG 1.1//EN\"\n",
       " \"http://www.w3.org/Graphics/SVG/1.1/DTD/svg11.dtd\">\n",
       "<!-- Generated by graphviz version 2.38.0 (20140413.2041)\n",
       " -->\n",
       "<!-- Title: %3 Pages: 1 -->\n",
       "<svg width=\"134pt\" height=\"116pt\"\n",
       " viewBox=\"0.00 0.00 134.00 116.00\" xmlns=\"http://www.w3.org/2000/svg\" xmlns:xlink=\"http://www.w3.org/1999/xlink\">\n",
       "<g id=\"graph0\" class=\"graph\" transform=\"scale(1 1) rotate(0) translate(4 112)\">\n",
       "<title>%3</title>\n",
       "<polygon fill=\"white\" stroke=\"none\" points=\"-4,4 -4,-112 130,-112 130,4 -4,4\"/>\n",
       "<!-- x1 -->\n",
       "<g id=\"node1\" class=\"node\"><title>x1</title>\n",
       "<ellipse fill=\"none\" stroke=\"black\" cx=\"27\" cy=\"-18\" rx=\"27\" ry=\"18\"/>\n",
       "<text text-anchor=\"middle\" x=\"27\" y=\"-14.3\" font-family=\"Times,serif\" font-size=\"14.00\">x1</text>\n",
       "</g>\n",
       "<!-- x2 -->\n",
       "<g id=\"node2\" class=\"node\"><title>x2</title>\n",
       "<ellipse fill=\"none\" stroke=\"black\" cx=\"63\" cy=\"-90\" rx=\"27\" ry=\"18\"/>\n",
       "<text text-anchor=\"middle\" x=\"63\" y=\"-86.3\" font-family=\"Times,serif\" font-size=\"14.00\">x2</text>\n",
       "</g>\n",
       "<!-- x2&#45;&gt;x1 -->\n",
       "<g id=\"edge1\" class=\"edge\"><title>x2&#45;&gt;x1</title>\n",
       "<path fill=\"none\" stroke=\"black\" d=\"M54.6504,-72.7646C50.2885,-64.2831 44.8531,-53.7144 39.9587,-44.1974\"/>\n",
       "<polygon fill=\"black\" stroke=\"black\" points=\"42.9904,-42.4395 35.3043,-35.1473 36.7654,-45.6409 42.9904,-42.4395\"/>\n",
       "</g>\n",
       "<!-- x3 -->\n",
       "<g id=\"node3\" class=\"node\"><title>x3</title>\n",
       "<ellipse fill=\"none\" stroke=\"black\" cx=\"99\" cy=\"-18\" rx=\"27\" ry=\"18\"/>\n",
       "<text text-anchor=\"middle\" x=\"99\" y=\"-14.3\" font-family=\"Times,serif\" font-size=\"14.00\">x3</text>\n",
       "</g>\n",
       "<!-- x2&#45;&gt;x3 -->\n",
       "<g id=\"edge2\" class=\"edge\"><title>x2&#45;&gt;x3</title>\n",
       "<path fill=\"none\" stroke=\"black\" d=\"M71.3496,-72.7646C75.7115,-64.2831 81.1469,-53.7144 86.0413,-44.1974\"/>\n",
       "<polygon fill=\"black\" stroke=\"black\" points=\"89.2346,-45.6409 90.6957,-35.1473 83.0096,-42.4395 89.2346,-45.6409\"/>\n",
       "</g>\n",
       "</g>\n",
       "</svg>\n"
      ],
      "text/plain": [
       "<graphviz.dot.Digraph at 0x7fddf2a78f60>"
      ]
     },
     "execution_count": 5,
     "metadata": {},
     "output_type": "execute_result"
    }
   ],
   "source": [
    "from causalgraphicalmodels.examples import fork, chain, collider\n",
    "\n",
    "print(\"Implied conditional Independence Relationship: \", \n",
    "      fork.get_all_independence_relationships())\n",
    "fork.draw()"
   ]
  },
  {
   "cell_type": "code",
   "execution_count": 6,
   "metadata": {},
   "outputs": [
    {
     "name": "stdout",
     "output_type": "stream",
     "text": [
      "Implied conditional Independence Relationship:  [('x1', 'x3', {'x2'})]\n"
     ]
    },
    {
     "data": {
      "image/svg+xml": [
       "<?xml version=\"1.0\" encoding=\"UTF-8\" standalone=\"no\"?>\n",
       "<!DOCTYPE svg PUBLIC \"-//W3C//DTD SVG 1.1//EN\"\n",
       " \"http://www.w3.org/Graphics/SVG/1.1/DTD/svg11.dtd\">\n",
       "<!-- Generated by graphviz version 2.38.0 (20140413.2041)\n",
       " -->\n",
       "<!-- Title: %3 Pages: 1 -->\n",
       "<svg width=\"62pt\" height=\"188pt\"\n",
       " viewBox=\"0.00 0.00 62.00 188.00\" xmlns=\"http://www.w3.org/2000/svg\" xmlns:xlink=\"http://www.w3.org/1999/xlink\">\n",
       "<g id=\"graph0\" class=\"graph\" transform=\"scale(1 1) rotate(0) translate(4 184)\">\n",
       "<title>%3</title>\n",
       "<polygon fill=\"white\" stroke=\"none\" points=\"-4,4 -4,-184 58,-184 58,4 -4,4\"/>\n",
       "<!-- x1 -->\n",
       "<g id=\"node1\" class=\"node\"><title>x1</title>\n",
       "<ellipse fill=\"none\" stroke=\"black\" cx=\"27\" cy=\"-162\" rx=\"27\" ry=\"18\"/>\n",
       "<text text-anchor=\"middle\" x=\"27\" y=\"-158.3\" font-family=\"Times,serif\" font-size=\"14.00\">x1</text>\n",
       "</g>\n",
       "<!-- x2 -->\n",
       "<g id=\"node2\" class=\"node\"><title>x2</title>\n",
       "<ellipse fill=\"none\" stroke=\"black\" cx=\"27\" cy=\"-90\" rx=\"27\" ry=\"18\"/>\n",
       "<text text-anchor=\"middle\" x=\"27\" y=\"-86.3\" font-family=\"Times,serif\" font-size=\"14.00\">x2</text>\n",
       "</g>\n",
       "<!-- x1&#45;&gt;x2 -->\n",
       "<g id=\"edge1\" class=\"edge\"><title>x1&#45;&gt;x2</title>\n",
       "<path fill=\"none\" stroke=\"black\" d=\"M27,-143.697C27,-135.983 27,-126.712 27,-118.112\"/>\n",
       "<polygon fill=\"black\" stroke=\"black\" points=\"30.5001,-118.104 27,-108.104 23.5001,-118.104 30.5001,-118.104\"/>\n",
       "</g>\n",
       "<!-- x3 -->\n",
       "<g id=\"node3\" class=\"node\"><title>x3</title>\n",
       "<ellipse fill=\"none\" stroke=\"black\" cx=\"27\" cy=\"-18\" rx=\"27\" ry=\"18\"/>\n",
       "<text text-anchor=\"middle\" x=\"27\" y=\"-14.3\" font-family=\"Times,serif\" font-size=\"14.00\">x3</text>\n",
       "</g>\n",
       "<!-- x2&#45;&gt;x3 -->\n",
       "<g id=\"edge2\" class=\"edge\"><title>x2&#45;&gt;x3</title>\n",
       "<path fill=\"none\" stroke=\"black\" d=\"M27,-71.6966C27,-63.9827 27,-54.7125 27,-46.1124\"/>\n",
       "<polygon fill=\"black\" stroke=\"black\" points=\"30.5001,-46.1043 27,-36.1043 23.5001,-46.1044 30.5001,-46.1043\"/>\n",
       "</g>\n",
       "</g>\n",
       "</svg>\n"
      ],
      "text/plain": [
       "<graphviz.dot.Digraph at 0x7fddf2a78e10>"
      ]
     },
     "execution_count": 6,
     "metadata": {},
     "output_type": "execute_result"
    }
   ],
   "source": [
    "print(\"Implied conditional Independence Relationship: \", \n",
    "      chain.get_all_independence_relationships())\n",
    "chain.draw()"
   ]
  },
  {
   "cell_type": "markdown",
   "metadata": {},
   "source": [
    "In the fork and the chain imply the same independence relationships: $X_{1}$ and $X_{3}$ are not independent, unless we condition on $X_{2}$ when they become conditionally independent. (Although I should note they imply very different causal structures: In a chain $X_{1}$ has causal influence on $X_{3}$, but in a fork there is no causal influence)."
   ]
  },
  {
   "cell_type": "code",
   "execution_count": 7,
   "metadata": {},
   "outputs": [
    {
     "name": "stdout",
     "output_type": "stream",
     "text": [
      "Implied conditional Independence Relationship:  [('x1', 'x3', set())]\n"
     ]
    },
    {
     "data": {
      "image/svg+xml": [
       "<?xml version=\"1.0\" encoding=\"UTF-8\" standalone=\"no\"?>\n",
       "<!DOCTYPE svg PUBLIC \"-//W3C//DTD SVG 1.1//EN\"\n",
       " \"http://www.w3.org/Graphics/SVG/1.1/DTD/svg11.dtd\">\n",
       "<!-- Generated by graphviz version 2.38.0 (20140413.2041)\n",
       " -->\n",
       "<!-- Title: %3 Pages: 1 -->\n",
       "<svg width=\"134pt\" height=\"116pt\"\n",
       " viewBox=\"0.00 0.00 134.00 116.00\" xmlns=\"http://www.w3.org/2000/svg\" xmlns:xlink=\"http://www.w3.org/1999/xlink\">\n",
       "<g id=\"graph0\" class=\"graph\" transform=\"scale(1 1) rotate(0) translate(4 112)\">\n",
       "<title>%3</title>\n",
       "<polygon fill=\"white\" stroke=\"none\" points=\"-4,4 -4,-112 130,-112 130,4 -4,4\"/>\n",
       "<!-- x1 -->\n",
       "<g id=\"node1\" class=\"node\"><title>x1</title>\n",
       "<ellipse fill=\"none\" stroke=\"black\" cx=\"27\" cy=\"-90\" rx=\"27\" ry=\"18\"/>\n",
       "<text text-anchor=\"middle\" x=\"27\" y=\"-86.3\" font-family=\"Times,serif\" font-size=\"14.00\">x1</text>\n",
       "</g>\n",
       "<!-- x2 -->\n",
       "<g id=\"node2\" class=\"node\"><title>x2</title>\n",
       "<ellipse fill=\"none\" stroke=\"black\" cx=\"63\" cy=\"-18\" rx=\"27\" ry=\"18\"/>\n",
       "<text text-anchor=\"middle\" x=\"63\" y=\"-14.3\" font-family=\"Times,serif\" font-size=\"14.00\">x2</text>\n",
       "</g>\n",
       "<!-- x1&#45;&gt;x2 -->\n",
       "<g id=\"edge1\" class=\"edge\"><title>x1&#45;&gt;x2</title>\n",
       "<path fill=\"none\" stroke=\"black\" d=\"M35.3496,-72.7646C39.7115,-64.2831 45.1469,-53.7144 50.0413,-44.1974\"/>\n",
       "<polygon fill=\"black\" stroke=\"black\" points=\"53.2346,-45.6409 54.6957,-35.1473 47.0096,-42.4395 53.2346,-45.6409\"/>\n",
       "</g>\n",
       "<!-- x3 -->\n",
       "<g id=\"node3\" class=\"node\"><title>x3</title>\n",
       "<ellipse fill=\"none\" stroke=\"black\" cx=\"99\" cy=\"-90\" rx=\"27\" ry=\"18\"/>\n",
       "<text text-anchor=\"middle\" x=\"99\" y=\"-86.3\" font-family=\"Times,serif\" font-size=\"14.00\">x3</text>\n",
       "</g>\n",
       "<!-- x3&#45;&gt;x2 -->\n",
       "<g id=\"edge2\" class=\"edge\"><title>x3&#45;&gt;x2</title>\n",
       "<path fill=\"none\" stroke=\"black\" d=\"M90.6504,-72.7646C86.2885,-64.2831 80.8531,-53.7144 75.9587,-44.1974\"/>\n",
       "<polygon fill=\"black\" stroke=\"black\" points=\"78.9904,-42.4395 71.3043,-35.1473 72.7654,-45.6409 78.9904,-42.4395\"/>\n",
       "</g>\n",
       "</g>\n",
       "</svg>\n"
      ],
      "text/plain": [
       "<graphviz.dot.Digraph at 0x7fddf2a78c18>"
      ]
     },
     "execution_count": 7,
     "metadata": {},
     "output_type": "execute_result"
    }
   ],
   "source": [
    "print(\"Implied conditional Independence Relationship: \", \n",
    "      collider.get_all_independence_relationships())\n",
    "collider.draw()"
   ]
  },
  {
   "cell_type": "markdown",
   "metadata": {},
   "source": [
    "For the collider, $x_{1}$ and $x_{3}$ are independent, unless $x_{2}$ or any of it's descendants are in the group we condition on. This is sometimes called [Berkson's Paradox](https://en.wikipedia.org/wiki/Berkson%27s_paradox). \n",
    "\n",
    "For paths longer then length 3, it turns out we can use the previous results to decide if two nodes are d-separated by examining each three structure along the paths: a path is d-separated if all sets of consecutive 3-nodes are d-separated. \n",
    "\n",
    "Consider the following path between $X_{1}$ and $X_{5}$:"
   ]
  },
  {
   "cell_type": "code",
   "execution_count": 8,
   "metadata": {},
   "outputs": [
    {
     "data": {
      "image/svg+xml": [
       "<?xml version=\"1.0\" encoding=\"UTF-8\" standalone=\"no\"?>\n",
       "<!DOCTYPE svg PUBLIC \"-//W3C//DTD SVG 1.1//EN\"\n",
       " \"http://www.w3.org/Graphics/SVG/1.1/DTD/svg11.dtd\">\n",
       "<!-- Generated by graphviz version 2.38.0 (20140413.2041)\n",
       " -->\n",
       "<!-- Title: %3 Pages: 1 -->\n",
       "<svg width=\"206pt\" height=\"188pt\"\n",
       " viewBox=\"0.00 0.00 206.00 188.00\" xmlns=\"http://www.w3.org/2000/svg\" xmlns:xlink=\"http://www.w3.org/1999/xlink\">\n",
       "<g id=\"graph0\" class=\"graph\" transform=\"scale(1 1) rotate(0) translate(4 184)\">\n",
       "<title>%3</title>\n",
       "<polygon fill=\"white\" stroke=\"none\" points=\"-4,4 -4,-184 202,-184 202,4 -4,4\"/>\n",
       "<!-- x1 -->\n",
       "<g id=\"node1\" class=\"node\"><title>x1</title>\n",
       "<ellipse fill=\"none\" stroke=\"black\" cx=\"27\" cy=\"-90\" rx=\"27\" ry=\"18\"/>\n",
       "<text text-anchor=\"middle\" x=\"27\" y=\"-86.3\" font-family=\"Times,serif\" font-size=\"14.00\">x1</text>\n",
       "</g>\n",
       "<!-- x2 -->\n",
       "<g id=\"node2\" class=\"node\"><title>x2</title>\n",
       "<ellipse fill=\"none\" stroke=\"black\" cx=\"63\" cy=\"-18\" rx=\"27\" ry=\"18\"/>\n",
       "<text text-anchor=\"middle\" x=\"63\" y=\"-14.3\" font-family=\"Times,serif\" font-size=\"14.00\">x2</text>\n",
       "</g>\n",
       "<!-- x1&#45;&gt;x2 -->\n",
       "<g id=\"edge1\" class=\"edge\"><title>x1&#45;&gt;x2</title>\n",
       "<path fill=\"none\" stroke=\"black\" d=\"M35.3496,-72.7646C39.7115,-64.2831 45.1469,-53.7144 50.0413,-44.1974\"/>\n",
       "<polygon fill=\"black\" stroke=\"black\" points=\"53.2346,-45.6409 54.6957,-35.1473 47.0096,-42.4395 53.2346,-45.6409\"/>\n",
       "</g>\n",
       "<!-- x3 -->\n",
       "<g id=\"node3\" class=\"node\"><title>x3</title>\n",
       "<ellipse fill=\"none\" stroke=\"black\" cx=\"99\" cy=\"-90\" rx=\"27\" ry=\"18\"/>\n",
       "<text text-anchor=\"middle\" x=\"99\" y=\"-86.3\" font-family=\"Times,serif\" font-size=\"14.00\">x3</text>\n",
       "</g>\n",
       "<!-- x3&#45;&gt;x2 -->\n",
       "<g id=\"edge2\" class=\"edge\"><title>x3&#45;&gt;x2</title>\n",
       "<path fill=\"none\" stroke=\"black\" d=\"M90.6504,-72.7646C86.2885,-64.2831 80.8531,-53.7144 75.9587,-44.1974\"/>\n",
       "<polygon fill=\"black\" stroke=\"black\" points=\"78.9904,-42.4395 71.3043,-35.1473 72.7654,-45.6409 78.9904,-42.4395\"/>\n",
       "</g>\n",
       "<!-- x4 -->\n",
       "<g id=\"node4\" class=\"node\"><title>x4</title>\n",
       "<ellipse fill=\"none\" stroke=\"black\" cx=\"135\" cy=\"-162\" rx=\"27\" ry=\"18\"/>\n",
       "<text text-anchor=\"middle\" x=\"135\" y=\"-158.3\" font-family=\"Times,serif\" font-size=\"14.00\">x4</text>\n",
       "</g>\n",
       "<!-- x4&#45;&gt;x3 -->\n",
       "<g id=\"edge3\" class=\"edge\"><title>x4&#45;&gt;x3</title>\n",
       "<path fill=\"none\" stroke=\"black\" d=\"M126.65,-144.765C122.288,-136.283 116.853,-125.714 111.959,-116.197\"/>\n",
       "<polygon fill=\"black\" stroke=\"black\" points=\"114.99,-114.439 107.304,-107.147 108.765,-117.641 114.99,-114.439\"/>\n",
       "</g>\n",
       "<!-- x5 -->\n",
       "<g id=\"node5\" class=\"node\"><title>x5</title>\n",
       "<ellipse fill=\"none\" stroke=\"black\" cx=\"171\" cy=\"-90\" rx=\"27\" ry=\"18\"/>\n",
       "<text text-anchor=\"middle\" x=\"171\" y=\"-86.3\" font-family=\"Times,serif\" font-size=\"14.00\">x5</text>\n",
       "</g>\n",
       "<!-- x4&#45;&gt;x5 -->\n",
       "<g id=\"edge4\" class=\"edge\"><title>x4&#45;&gt;x5</title>\n",
       "<path fill=\"none\" stroke=\"black\" d=\"M143.35,-144.765C147.712,-136.283 153.147,-125.714 158.041,-116.197\"/>\n",
       "<polygon fill=\"black\" stroke=\"black\" points=\"161.235,-117.641 162.696,-107.147 155.01,-114.439 161.235,-117.641\"/>\n",
       "</g>\n",
       "</g>\n",
       "</svg>\n"
      ],
      "text/plain": [
       "<graphviz.dot.Digraph at 0x7fddf1d5e908>"
      ]
     },
     "execution_count": 8,
     "metadata": {},
     "output_type": "execute_result"
    }
   ],
   "source": [
    "path = CausalGraphicalModel(\n",
    "    nodes = [\"x1\", \"x2\", \"x3\", \"x4\", \"x5\"],\n",
    "    edges = [(\"x1\", \"x2\"), (\"x3\", \"x2\"), (\"x4\", \"x3\"), (\"x4\", \"x5\")]\n",
    ")\n",
    "\n",
    "path.draw()"
   ]
  },
  {
   "cell_type": "markdown",
   "metadata": {},
   "source": [
    "If we condition on nothing, they are d-separated because the collider ($X_{1}$, $X_{2}$, $X_{3}$) leaves the path blocked. However, if we condition on $X_{2}$ or any of it's descendants the path becomes unblocked, because the rest of the path is made up of forks ($X_{3}$, $X_{4}$, $X_{5}$) and chains ($X_{2}$, $X_{3}$, $X_{4}$). If we condition on $X_{2}$ _and_ $X_{3}$ the path becomes blocked again because the chain ($X_{2}$, $X_{3}$, $X_{4}$) is blocked.\n",
    "\n",
    "We can check this with the following code:"
   ]
  },
  {
   "cell_type": "code",
   "execution_count": 9,
   "metadata": {},
   "outputs": [
    {
     "name": "stdout",
     "output_type": "stream",
     "text": [
      "Are x1 and x5 unconditional independent? True \n",
      "Are x1 and x5 conditional independent when conditioning on x2? False \n",
      "Are x1 and x5 conditional independent when conditioning on x2 and x3? True \n"
     ]
    }
   ],
   "source": [
    "print(\"Are x1 and x5 unconditional independent? {} \"\n",
    "      .format(path.is_d_separated(\"x1\", \"x5\", {})))\n",
    "\n",
    "print(\"Are x1 and x5 conditional independent when conditioning on x2? {} \"\n",
    "      .format(path.is_d_separated(\"x1\", \"x5\", {\"x2\"})))\n",
    "\n",
    "print(\"Are x1 and x5 conditional independent when conditioning on x2 and x3? {} \"\n",
    "      .format(path.is_d_separated(\"x1\", \"x5\", {\"x2\", \"x3\"})))"
   ]
  },
  {
   "cell_type": "markdown",
   "metadata": {},
   "source": [
    "We can read off all independence relationships implied by the graph in the sprinkler system using:"
   ]
  },
  {
   "cell_type": "code",
   "execution_count": 10,
   "metadata": {},
   "outputs": [
    {
     "data": {
      "text/plain": [
       "[('season', 'wet', {'rain', 'sprinkler'}),\n",
       " ('season', 'wet', {'rain', 'slippery', 'sprinkler'}),\n",
       " ('season', 'slippery', {'wet'}),\n",
       " ('season', 'slippery', {'sprinkler', 'wet'}),\n",
       " ('season', 'slippery', {'rain', 'wet'}),\n",
       " ('season', 'slippery', {'rain', 'sprinkler'}),\n",
       " ('season', 'slippery', {'rain', 'sprinkler', 'wet'}),\n",
       " ('rain', 'sprinkler', {'season'}),\n",
       " ('rain', 'slippery', {'wet'}),\n",
       " ('rain', 'slippery', {'season', 'wet'}),\n",
       " ('rain', 'slippery', {'sprinkler', 'wet'}),\n",
       " ('rain', 'slippery', {'season', 'sprinkler', 'wet'}),\n",
       " ('sprinkler', 'slippery', {'wet'}),\n",
       " ('sprinkler', 'slippery', {'season', 'wet'}),\n",
       " ('sprinkler', 'slippery', {'rain', 'wet'}),\n",
       " ('sprinkler', 'slippery', {'rain', 'season', 'wet'})]"
      ]
     },
     "execution_count": 10,
     "metadata": {},
     "output_type": "execute_result"
    }
   ],
   "source": [
    "sprinkler.get_all_independence_relationships()"
   ]
  },
  {
   "cell_type": "markdown",
   "metadata": {},
   "source": [
    "At this point it is worth emphasising that causal graphical models are _non-parametric_: they do not make any assumptions about the functional form of relationships between variables, only that they exist. Because of this the only testable assumption these models make are the conditional independence relationships between the variables. Unfortunately, [testing conditional independence, in the general case, is impossible](https://arxiv.org/pdf/1804.07203.pdf). Combined with the fact that there are [many possible DAGs](http://arantxa.ii.uam.es/~ssantini/writing/notes/s649_dag_counting.pdf) for even a reasonable number of variables, discovering causal structure from observational data alone is very difficult. \n",
    "\n",
    "There are still some [interesting approaches](https://arxiv.org/abs/1501.01332) to identifying causal structure, but for these notes, it is best to think of the main use of causal graphical models as a way of explicitly encoding prior knowledge about the structure of a system, and to use this structure combined with observational data to make predictions about the effect of causal interventions."
   ]
  },
  {
   "cell_type": "markdown",
   "metadata": {},
   "source": [
    "# From Bayesian networks to Causal Graphical Models\n",
    "\n",
    "So far, our description of causal graphical models has been the same as those of general [Bayesian Networks](https://en.wikipedia.org/wiki/Bayesian_network). To endow these structures with a notion of causality, we some assumptions about what happens when an intervention occurs. In causal graphical models, this is the notion of \"**Stability**\" or \"**Invariance**\" - that when we make an intervention on one variable, the structure of the causal graph and the functional relationships between the remaining variables remain the same.\n",
    "\n",
    "If the assumption of invariance holds, the effect of an intervention on variable $X$ to remove the edges between the variable and it's parents. We typically denote a node with an intervention with a node with a double outline. \n",
    "\n",
    "Imagine that we had the power the control the weather. If use it to make an intervention on the \"rain\" node of our sprinkler model, we get the following system:"
   ]
  },
  {
   "cell_type": "code",
   "execution_count": 11,
   "metadata": {},
   "outputs": [
    {
     "name": "stdout",
     "output_type": "stream",
     "text": [
      "P(season)P(sprinkler|season)P(wet|do(rain),sprinkler)P(slippery|wet)\n"
     ]
    },
    {
     "data": {
      "image/svg+xml": [
       "<?xml version=\"1.0\" encoding=\"UTF-8\" standalone=\"no\"?>\n",
       "<!DOCTYPE svg PUBLIC \"-//W3C//DTD SVG 1.1//EN\"\n",
       " \"http://www.w3.org/Graphics/SVG/1.1/DTD/svg11.dtd\">\n",
       "<!-- Generated by graphviz version 2.38.0 (20140413.2041)\n",
       " -->\n",
       "<!-- Title: %3 Pages: 1 -->\n",
       "<svg width=\"172pt\" height=\"268pt\"\n",
       " viewBox=\"0.00 0.00 172.25 268.00\" xmlns=\"http://www.w3.org/2000/svg\" xmlns:xlink=\"http://www.w3.org/1999/xlink\">\n",
       "<g id=\"graph0\" class=\"graph\" transform=\"scale(1 1) rotate(0) translate(4 264)\">\n",
       "<title>%3</title>\n",
       "<polygon fill=\"white\" stroke=\"none\" points=\"-4,4 -4,-264 168.246,-264 168.246,4 -4,4\"/>\n",
       "<!-- season -->\n",
       "<g id=\"node1\" class=\"node\"><title>season</title>\n",
       "<ellipse fill=\"none\" stroke=\"black\" cx=\"42.2463\" cy=\"-242\" rx=\"34.394\" ry=\"18\"/>\n",
       "<text text-anchor=\"middle\" x=\"42.2463\" y=\"-238.3\" font-family=\"Times,serif\" font-size=\"14.00\">season</text>\n",
       "</g>\n",
       "<!-- sprinkler -->\n",
       "<g id=\"node3\" class=\"node\"><title>sprinkler</title>\n",
       "<ellipse fill=\"none\" stroke=\"black\" cx=\"42.2463\" cy=\"-166\" rx=\"42.4939\" ry=\"18\"/>\n",
       "<text text-anchor=\"middle\" x=\"42.2463\" y=\"-162.3\" font-family=\"Times,serif\" font-size=\"14.00\">sprinkler</text>\n",
       "</g>\n",
       "<!-- season&#45;&gt;sprinkler -->\n",
       "<g id=\"edge1\" class=\"edge\"><title>season&#45;&gt;sprinkler</title>\n",
       "<path fill=\"none\" stroke=\"black\" d=\"M42.2463,-223.837C42.2463,-215.058 42.2463,-204.163 42.2463,-194.267\"/>\n",
       "<polygon fill=\"black\" stroke=\"black\" points=\"45.7463,-194.07 42.2463,-184.07 38.7463,-194.07 45.7463,-194.07\"/>\n",
       "</g>\n",
       "<!-- rain -->\n",
       "<g id=\"node2\" class=\"node\"><title>rain</title>\n",
       "<ellipse fill=\"none\" stroke=\"black\" cx=\"133.246\" cy=\"-166\" rx=\"27\" ry=\"18\"/>\n",
       "<ellipse fill=\"none\" stroke=\"black\" cx=\"133.246\" cy=\"-166\" rx=\"31\" ry=\"22\"/>\n",
       "<text text-anchor=\"middle\" x=\"133.246\" y=\"-162.3\" font-family=\"Times,serif\" font-size=\"14.00\">rain</text>\n",
       "</g>\n",
       "<!-- wet -->\n",
       "<g id=\"node4\" class=\"node\"><title>wet</title>\n",
       "<ellipse fill=\"none\" stroke=\"black\" cx=\"87.2463\" cy=\"-90\" rx=\"27\" ry=\"18\"/>\n",
       "<text text-anchor=\"middle\" x=\"87.2463\" y=\"-86.3\" font-family=\"Times,serif\" font-size=\"14.00\">wet</text>\n",
       "</g>\n",
       "<!-- rain&#45;&gt;wet -->\n",
       "<g id=\"edge2\" class=\"edge\"><title>rain&#45;&gt;wet</title>\n",
       "<path fill=\"none\" stroke=\"black\" d=\"M121.16,-145.557C115.454,-136.377 108.58,-125.32 102.518,-115.567\"/>\n",
       "<polygon fill=\"black\" stroke=\"black\" points=\"105.487,-113.713 97.2347,-107.068 99.5415,-117.409 105.487,-113.713\"/>\n",
       "</g>\n",
       "<!-- sprinkler&#45;&gt;wet -->\n",
       "<g id=\"edge3\" class=\"edge\"><title>sprinkler&#45;&gt;wet</title>\n",
       "<path fill=\"none\" stroke=\"black\" d=\"M52.4574,-148.208C58.2337,-138.71 65.5686,-126.648 72.0127,-116.051\"/>\n",
       "<polygon fill=\"black\" stroke=\"black\" points=\"75.1793,-117.58 77.3847,-107.217 69.1984,-113.942 75.1793,-117.58\"/>\n",
       "</g>\n",
       "<!-- slippery -->\n",
       "<g id=\"node5\" class=\"node\"><title>slippery</title>\n",
       "<ellipse fill=\"none\" stroke=\"black\" cx=\"87.2463\" cy=\"-18\" rx=\"38.9931\" ry=\"18\"/>\n",
       "<text text-anchor=\"middle\" x=\"87.2463\" y=\"-14.3\" font-family=\"Times,serif\" font-size=\"14.00\">slippery</text>\n",
       "</g>\n",
       "<!-- wet&#45;&gt;slippery -->\n",
       "<g id=\"edge4\" class=\"edge\"><title>wet&#45;&gt;slippery</title>\n",
       "<path fill=\"none\" stroke=\"black\" d=\"M87.2463,-71.6966C87.2463,-63.9827 87.2463,-54.7125 87.2463,-46.1124\"/>\n",
       "<polygon fill=\"black\" stroke=\"black\" points=\"90.7464,-46.1043 87.2463,-36.1043 83.7464,-46.1044 90.7464,-46.1043\"/>\n",
       "</g>\n",
       "</g>\n",
       "</svg>\n"
      ],
      "text/plain": [
       "<graphviz.dot.Digraph at 0x7fddf2a78be0>"
      ]
     },
     "execution_count": 11,
     "metadata": {},
     "output_type": "execute_result"
    }
   ],
   "source": [
    "sprinkler_do = sprinkler.do(\"rain\")\n",
    "\n",
    "print(sprinkler_do.get_distribution())\n",
    "\n",
    "sprinkler_do.draw()"
   ]
  },
  {
   "cell_type": "markdown",
   "metadata": {},
   "source": [
    "Because causal graphical models are non-parametric, they cannot tell us _what_ the relationship between two variables are, they only give us an idea _if_ there is a relationship between the two variables through the notion of conditional independence. It does this using the idea of \"paths\" between variables: if there are no unblocked paths between two variables, they are independent. It also means that if two causal graphical models share the same paths between two variables, the conditional relationship between these two variables are the same. \n",
    "\n",
    "For example, in the graph of out sprinkler system, $\\Pc{slippery}{wet}$ is the same whether or not we make an intervention on $rain$, but $\\Pc{slippery}{season}$ is not.\n",
    "\n",
    "Describing the interventions in the way has some immediate consequences:\n",
    "\n",
    "- $X$ can only have some causal inference on $Y$ if there is at least one directed path between $X$ and $Y$. This is because if there is no directed path, with respect to the interventional graph the parents of $X$ have been removed, so $\\In{X}{Y}$ in the intervential graph.\n",
    "- If there are _only_ directed paths between $X$ and $Y$, then the the causal influence of $X$ on $Y$ is given by the simply by the conditional distribution $\\Pc{Y}{X}$. This is because the interventional graph has the same paths between $X$ and $Y$ as the observational distribution.\n",
    "- If there is a unblocked, but not completely directed path between $X$ and $Y$, it means that both $X$ and $Y$ share a common ancestor. This common ancestor is what is called a [_confounder_](https://en.wikipedia.org/wiki/Confounding), and will mean that if we try to estimate $\\Pc{Y}{\\do{X}}$ from $\\Pc{Y}{X}$ of estimates will be biased.\n",
    " \n",
    "None of these results should be too surprising, but causal graphical models give us a way to quantify these understanding."
   ]
  },
  {
   "cell_type": "markdown",
   "metadata": {
    "collapsed": true
   },
   "source": [
    "# Causal Inference with  Causal Graphical Models\n",
    "\n",
    "Now that we have a way of describing how both observational and interventional distributions are generated and how they relate to each other, we can ask under what circumstances it is possible to make causal inferences from a system we only have observational samples from. This problem is often called \"Identifiability\". \n",
    "\n",
    "To be specific, the question is under what circumstances can we estimate\n",
    "\n",
    "$\\Pc{Y}{\\do{X}}$\n",
    "\n",
    "from observational data, given some assumed causal graphical model?\n",
    "\n",
    "It turns out we can do this via a set of manipulations known as [do-calculus](https://arxiv.org/pdf/1210.4852.pdf), a set of rules which together with the standard [rules of manipulating probability distributions](https://arxiv.org/pdf/1205.4446.pdf) can allow expressions involving distributions conditioned by $\\do{\\dots}$ to be transformed into a form which involves no interventions. \n",
    "\n",
    "I'm not going to cover the full score of do-calculus here, instead I'm going to explore some examples. \n",
    "\n",
    "Let's start with the following causal graphical model:"
   ]
  },
  {
   "cell_type": "code",
   "execution_count": 12,
   "metadata": {},
   "outputs": [
    {
     "data": {
      "image/svg+xml": [
       "<?xml version=\"1.0\" encoding=\"UTF-8\" standalone=\"no\"?>\n",
       "<!DOCTYPE svg PUBLIC \"-//W3C//DTD SVG 1.1//EN\"\n",
       " \"http://www.w3.org/Graphics/SVG/1.1/DTD/svg11.dtd\">\n",
       "<!-- Generated by graphviz version 2.38.0 (20140413.2041)\n",
       " -->\n",
       "<!-- Title: %3 Pages: 1 -->\n",
       "<svg width=\"89pt\" height=\"188pt\"\n",
       " viewBox=\"0.00 0.00 89.00 188.00\" xmlns=\"http://www.w3.org/2000/svg\" xmlns:xlink=\"http://www.w3.org/1999/xlink\">\n",
       "<g id=\"graph0\" class=\"graph\" transform=\"scale(1 1) rotate(0) translate(4 184)\">\n",
       "<title>%3</title>\n",
       "<polygon fill=\"white\" stroke=\"none\" points=\"-4,4 -4,-184 85,-184 85,4 -4,4\"/>\n",
       "<!-- x -->\n",
       "<g id=\"node1\" class=\"node\"><title>x</title>\n",
       "<ellipse fill=\"none\" stroke=\"black\" cx=\"27\" cy=\"-90\" rx=\"27\" ry=\"18\"/>\n",
       "<text text-anchor=\"middle\" x=\"27\" y=\"-86.3\" font-family=\"Times,serif\" font-size=\"14.00\">x</text>\n",
       "</g>\n",
       "<!-- y -->\n",
       "<g id=\"node2\" class=\"node\"><title>y</title>\n",
       "<ellipse fill=\"none\" stroke=\"black\" cx=\"54\" cy=\"-18\" rx=\"27\" ry=\"18\"/>\n",
       "<text text-anchor=\"middle\" x=\"54\" y=\"-14.3\" font-family=\"Times,serif\" font-size=\"14.00\">y</text>\n",
       "</g>\n",
       "<!-- x&#45;&gt;y -->\n",
       "<g id=\"edge1\" class=\"edge\"><title>x&#45;&gt;y</title>\n",
       "<path fill=\"none\" stroke=\"black\" d=\"M33.3986,-72.411C36.5136,-64.3352 40.3337,-54.4312 43.8346,-45.3547\"/>\n",
       "<polygon fill=\"black\" stroke=\"black\" points=\"47.1265,-46.5458 47.4597,-35.9562 40.5955,-44.0267 47.1265,-46.5458\"/>\n",
       "</g>\n",
       "<!-- z -->\n",
       "<g id=\"node3\" class=\"node\"><title>z</title>\n",
       "<ellipse fill=\"none\" stroke=\"black\" cx=\"54\" cy=\"-162\" rx=\"27\" ry=\"18\"/>\n",
       "<text text-anchor=\"middle\" x=\"54\" y=\"-158.3\" font-family=\"Times,serif\" font-size=\"14.00\">z</text>\n",
       "</g>\n",
       "<!-- z&#45;&gt;x -->\n",
       "<g id=\"edge2\" class=\"edge\"><title>z&#45;&gt;x</title>\n",
       "<path fill=\"none\" stroke=\"black\" d=\"M47.6014,-144.411C44.4864,-136.335 40.6663,-126.431 37.1654,-117.355\"/>\n",
       "<polygon fill=\"black\" stroke=\"black\" points=\"40.4045,-116.027 33.5403,-107.956 33.8735,-118.546 40.4045,-116.027\"/>\n",
       "</g>\n",
       "<!-- z&#45;&gt;y -->\n",
       "<g id=\"edge3\" class=\"edge\"><title>z&#45;&gt;y</title>\n",
       "<path fill=\"none\" stroke=\"black\" d=\"M57.6538,-143.908C59.6758,-133.569 61.9808,-120.09 63,-108 64.3441,-92.0566 64.3441,-87.9434 63,-72 62.2834,-63.4991 60.9311,-54.3119 59.4884,-46.0122\"/>\n",
       "<polygon fill=\"black\" stroke=\"black\" points=\"62.9142,-45.2892 57.6538,-36.0925 56.0309,-46.5623 62.9142,-45.2892\"/>\n",
       "</g>\n",
       "</g>\n",
       "</svg>\n"
      ],
      "text/plain": [
       "<graphviz.dot.Digraph at 0x7fde283ae710>"
      ]
     },
     "execution_count": 12,
     "metadata": {},
     "output_type": "execute_result"
    }
   ],
   "source": [
    "from causalgraphicalmodels.examples import simple_confounded\n",
    "\n",
    "simple_confounded.draw()"
   ]
  },
  {
   "cell_type": "markdown",
   "metadata": {},
   "source": [
    "Under intervention on $X$, the causal graphical model generating the data is "
   ]
  },
  {
   "cell_type": "code",
   "execution_count": 13,
   "metadata": {},
   "outputs": [
    {
     "data": {
      "image/svg+xml": [
       "<?xml version=\"1.0\" encoding=\"UTF-8\" standalone=\"no\"?>\n",
       "<!DOCTYPE svg PUBLIC \"-//W3C//DTD SVG 1.1//EN\"\n",
       " \"http://www.w3.org/Graphics/SVG/1.1/DTD/svg11.dtd\">\n",
       "<!-- Generated by graphviz version 2.38.0 (20140413.2041)\n",
       " -->\n",
       "<!-- Title: %3 Pages: 1 -->\n",
       "<svg width=\"142pt\" height=\"124pt\"\n",
       " viewBox=\"0.00 0.00 142.00 124.00\" xmlns=\"http://www.w3.org/2000/svg\" xmlns:xlink=\"http://www.w3.org/1999/xlink\">\n",
       "<g id=\"graph0\" class=\"graph\" transform=\"scale(1 1) rotate(0) translate(4 120)\">\n",
       "<title>%3</title>\n",
       "<polygon fill=\"white\" stroke=\"none\" points=\"-4,4 -4,-120 138,-120 138,4 -4,4\"/>\n",
       "<!-- x -->\n",
       "<g id=\"node1\" class=\"node\"><title>x</title>\n",
       "<ellipse fill=\"none\" stroke=\"black\" cx=\"31\" cy=\"-94\" rx=\"27\" ry=\"18\"/>\n",
       "<ellipse fill=\"none\" stroke=\"black\" cx=\"31\" cy=\"-94\" rx=\"31\" ry=\"22\"/>\n",
       "<text text-anchor=\"middle\" x=\"31\" y=\"-90.3\" font-family=\"Times,serif\" font-size=\"14.00\">x</text>\n",
       "</g>\n",
       "<!-- y -->\n",
       "<g id=\"node2\" class=\"node\"><title>y</title>\n",
       "<ellipse fill=\"none\" stroke=\"black\" cx=\"69\" cy=\"-18\" rx=\"27\" ry=\"18\"/>\n",
       "<text text-anchor=\"middle\" x=\"69\" y=\"-14.3\" font-family=\"Times,serif\" font-size=\"14.00\">y</text>\n",
       "</g>\n",
       "<!-- x&#45;&gt;y -->\n",
       "<g id=\"edge1\" class=\"edge\"><title>x&#45;&gt;y</title>\n",
       "<path fill=\"none\" stroke=\"black\" d=\"M41.1833,-73.1694C45.7341,-64.3073 51.1519,-53.7567 55.9919,-44.3315\"/>\n",
       "<polygon fill=\"black\" stroke=\"black\" points=\"59.1311,-45.8802 60.5857,-35.3857 52.9041,-42.6825 59.1311,-45.8802\"/>\n",
       "</g>\n",
       "<!-- z -->\n",
       "<g id=\"node3\" class=\"node\"><title>z</title>\n",
       "<ellipse fill=\"none\" stroke=\"black\" cx=\"107\" cy=\"-94\" rx=\"27\" ry=\"18\"/>\n",
       "<text text-anchor=\"middle\" x=\"107\" y=\"-90.3\" font-family=\"Times,serif\" font-size=\"14.00\">z</text>\n",
       "</g>\n",
       "<!-- z&#45;&gt;y -->\n",
       "<g id=\"edge2\" class=\"edge\"><title>z&#45;&gt;y</title>\n",
       "<path fill=\"none\" stroke=\"black\" d=\"M98.5666,-76.577C93.696,-67.0923 87.4672,-54.9624 81.9838,-44.2843\"/>\n",
       "<polygon fill=\"black\" stroke=\"black\" points=\"85.0914,-42.6739 77.4099,-35.3771 78.8645,-45.8716 85.0914,-42.6739\"/>\n",
       "</g>\n",
       "</g>\n",
       "</svg>\n"
      ],
      "text/plain": [
       "<graphviz.dot.Digraph at 0x7fddf2a78e80>"
      ]
     },
     "execution_count": 13,
     "metadata": {},
     "output_type": "execute_result"
    }
   ],
   "source": [
    "simple_confounded.do(\"x\").draw()"
   ]
  },
  {
   "cell_type": "markdown",
   "metadata": {
    "collapsed": true
   },
   "source": [
    "We are going to try and estimate the quantity\n",
    "\n",
    "$\\Pc{Y}{\\do{X}}$\n",
    "\n",
    "We can start by expanding this distribution using the standard rules of marginalization: \n",
    "\n",
    "$\\Pc{Y}{\\do{X}} = \\sum_{Z} \\Pc{Y}{\\do{X}, Z} \\Pc{Z}{\\do{X}}$\n",
    "\n",
    "And because in the interventional distribution $\\do{X}$ is independent of $Z$ we get \n",
    "\n",
    "$\\Pc{Y}{\\do{X}} = \\sum_{Z} \\Pc{Y}{\\do{X}, Z} \\P{Z}$\n",
    "\n",
    "Appealing to the assumption of stability, we assume that the conditional distribution of $Y$ given it's parents is takes the same form when an intervention takes place, we can write:\n",
    "\n",
    "$\\Pc{Y}{\\do{X}} = \\sum_{Z} \\Pc{Y}{X, Z} \\P{Z}$\n",
    "\n",
    "Where there are no more references to $\\do{\\dots}$ on the right hand side of the equation: we succeeded writing an interventional distribution in terms of a observational distribution. It is worth comparing this with a similar formula for the observational conditional distribution:\n",
    "\n",
    "$\\Pc{Y}{X} = \\sum_{Z} \\Pc{Y}{X, Z} \\Pc{Z}{X}$\n"
   ]
  },
  {
   "cell_type": "markdown",
   "metadata": {},
   "source": [
    "# When can we use the Adjustment Formula?\n",
    "\n",
    "The formula we found in the previous section appears in a number of areas, and is something called the adjustment formula, or g-formula or backdoor adjustment formula. It states that under certain circumstances, for a set of variables $W$, we can estimate the the causal influence of $X$ on $Y$ with respect to a causal graphical model using the equation\n",
    "\n",
    "$\\Pc{Y}{\\do{X}} = \\sum_{W} \\Pc{Y}{X, W} \\P{W}$\n",
    "\n",
    "The criterion for $W$ to exist is sometimes called the backdoor criterion. Graphically it states that\n",
    "\n",
    "1. $W$ blocks all backdoor paths between $X$ and $Y$ (all paths with arrows going into $X$)\n",
    "2. $W$ does not contain any descendants of $X$\n",
    "\n",
    "Like in the previous section, these criteria are met when $W$ are the parents of $X$, but these aren't the only variables which can be used as an adjustment set. Consider the following graph: "
   ]
  },
  {
   "cell_type": "code",
   "execution_count": 14,
   "metadata": {},
   "outputs": [
    {
     "data": {
      "image/svg+xml": [
       "<?xml version=\"1.0\" encoding=\"UTF-8\" standalone=\"no\"?>\n",
       "<!DOCTYPE svg PUBLIC \"-//W3C//DTD SVG 1.1//EN\"\n",
       " \"http://www.w3.org/Graphics/SVG/1.1/DTD/svg11.dtd\">\n",
       "<!-- Generated by graphviz version 2.38.0 (20140413.2041)\n",
       " -->\n",
       "<!-- Title: %3 Pages: 1 -->\n",
       "<svg width=\"189pt\" height=\"332pt\"\n",
       " viewBox=\"0.00 0.00 189.00 332.00\" xmlns=\"http://www.w3.org/2000/svg\" xmlns:xlink=\"http://www.w3.org/1999/xlink\">\n",
       "<g id=\"graph0\" class=\"graph\" transform=\"scale(1 1) rotate(0) translate(4 328)\">\n",
       "<title>%3</title>\n",
       "<polygon fill=\"white\" stroke=\"none\" points=\"-4,4 -4,-328 185,-328 185,4 -4,4\"/>\n",
       "<!-- a -->\n",
       "<g id=\"node1\" class=\"node\"><title>a</title>\n",
       "<ellipse fill=\"none\" stroke=\"black\" cx=\"41\" cy=\"-306\" rx=\"27\" ry=\"18\"/>\n",
       "<text text-anchor=\"middle\" x=\"41\" y=\"-302.3\" font-family=\"Times,serif\" font-size=\"14.00\">a</text>\n",
       "</g>\n",
       "<!-- x -->\n",
       "<g id=\"node3\" class=\"node\"><title>x</title>\n",
       "<ellipse fill=\"none\" stroke=\"black\" cx=\"82\" cy=\"-234\" rx=\"27\" ry=\"18\"/>\n",
       "<text text-anchor=\"middle\" x=\"82\" y=\"-230.3\" font-family=\"Times,serif\" font-size=\"14.00\">x</text>\n",
       "</g>\n",
       "<!-- a&#45;&gt;x -->\n",
       "<g id=\"edge1\" class=\"edge\"><title>a&#45;&gt;x</title>\n",
       "<path fill=\"none\" stroke=\"black\" d=\"M50.5093,-288.765C55.5288,-280.195 61.7964,-269.494 67.4155,-259.9\"/>\n",
       "<polygon fill=\"black\" stroke=\"black\" points=\"70.5083,-261.545 72.5423,-251.147 64.4681,-258.007 70.5083,-261.545\"/>\n",
       "</g>\n",
       "<!-- h -->\n",
       "<g id=\"node9\" class=\"node\"><title>h</title>\n",
       "<ellipse fill=\"none\" stroke=\"black\" cx=\"27\" cy=\"-18\" rx=\"27\" ry=\"18\"/>\n",
       "<text text-anchor=\"middle\" x=\"27\" y=\"-14.3\" font-family=\"Times,serif\" font-size=\"14.00\">h</text>\n",
       "</g>\n",
       "<!-- a&#45;&gt;h -->\n",
       "<g id=\"edge2\" class=\"edge\"><title>a&#45;&gt;h</title>\n",
       "<path fill=\"none\" stroke=\"black\" d=\"M40.1662,-287.966C37.8324,-240.291 31.2188,-105.185 28.3525,-46.63\"/>\n",
       "<polygon fill=\"black\" stroke=\"black\" points=\"31.832,-46.1233 27.8472,-36.3065 24.8404,-46.4656 31.832,-46.1233\"/>\n",
       "</g>\n",
       "<!-- b -->\n",
       "<g id=\"node2\" class=\"node\"><title>b</title>\n",
       "<ellipse fill=\"none\" stroke=\"black\" cx=\"140\" cy=\"-306\" rx=\"27\" ry=\"18\"/>\n",
       "<text text-anchor=\"middle\" x=\"140\" y=\"-302.3\" font-family=\"Times,serif\" font-size=\"14.00\">b</text>\n",
       "</g>\n",
       "<!-- b&#45;&gt;x -->\n",
       "<g id=\"edge3\" class=\"edge\"><title>b&#45;&gt;x</title>\n",
       "<path fill=\"none\" stroke=\"black\" d=\"M127.415,-289.811C119.738,-280.546 109.774,-268.52 101.135,-258.094\"/>\n",
       "<polygon fill=\"black\" stroke=\"black\" points=\"103.636,-255.626 94.5606,-250.159 98.2457,-260.093 103.636,-255.626\"/>\n",
       "</g>\n",
       "<!-- d -->\n",
       "<g id=\"node6\" class=\"node\"><title>d</title>\n",
       "<ellipse fill=\"none\" stroke=\"black\" cx=\"154\" cy=\"-234\" rx=\"27\" ry=\"18\"/>\n",
       "<text text-anchor=\"middle\" x=\"154\" y=\"-230.3\" font-family=\"Times,serif\" font-size=\"14.00\">d</text>\n",
       "</g>\n",
       "<!-- b&#45;&gt;d -->\n",
       "<g id=\"edge4\" class=\"edge\"><title>b&#45;&gt;d</title>\n",
       "<path fill=\"none\" stroke=\"black\" d=\"M143.389,-288.055C144.931,-280.346 146.795,-271.027 148.527,-262.364\"/>\n",
       "<polygon fill=\"black\" stroke=\"black\" points=\"152.016,-262.768 150.545,-252.275 145.152,-261.395 152.016,-262.768\"/>\n",
       "</g>\n",
       "<!-- c -->\n",
       "<g id=\"node4\" class=\"node\"><title>c</title>\n",
       "<ellipse fill=\"none\" stroke=\"black\" cx=\"82\" cy=\"-162\" rx=\"27\" ry=\"18\"/>\n",
       "<text text-anchor=\"middle\" x=\"82\" y=\"-158.3\" font-family=\"Times,serif\" font-size=\"14.00\">c</text>\n",
       "</g>\n",
       "<!-- x&#45;&gt;c -->\n",
       "<g id=\"edge5\" class=\"edge\"><title>x&#45;&gt;c</title>\n",
       "<path fill=\"none\" stroke=\"black\" d=\"M82,-215.697C82,-207.983 82,-198.712 82,-190.112\"/>\n",
       "<polygon fill=\"black\" stroke=\"black\" points=\"85.5001,-190.104 82,-180.104 78.5001,-190.104 85.5001,-190.104\"/>\n",
       "</g>\n",
       "<!-- y -->\n",
       "<g id=\"node5\" class=\"node\"><title>y</title>\n",
       "<ellipse fill=\"none\" stroke=\"black\" cx=\"90\" cy=\"-90\" rx=\"27\" ry=\"18\"/>\n",
       "<text text-anchor=\"middle\" x=\"90\" y=\"-86.3\" font-family=\"Times,serif\" font-size=\"14.00\">y</text>\n",
       "</g>\n",
       "<!-- c&#45;&gt;y -->\n",
       "<g id=\"edge6\" class=\"edge\"><title>c&#45;&gt;y</title>\n",
       "<path fill=\"none\" stroke=\"black\" d=\"M83.9775,-143.697C84.8591,-135.983 85.9186,-126.712 86.9014,-118.112\"/>\n",
       "<polygon fill=\"black\" stroke=\"black\" points=\"90.387,-118.437 88.0452,-108.104 83.4323,-117.642 90.387,-118.437\"/>\n",
       "</g>\n",
       "<!-- f -->\n",
       "<g id=\"node8\" class=\"node\"><title>f</title>\n",
       "<ellipse fill=\"none\" stroke=\"black\" cx=\"99\" cy=\"-18\" rx=\"27\" ry=\"18\"/>\n",
       "<text text-anchor=\"middle\" x=\"99\" y=\"-14.3\" font-family=\"Times,serif\" font-size=\"14.00\">f</text>\n",
       "</g>\n",
       "<!-- y&#45;&gt;f -->\n",
       "<g id=\"edge7\" class=\"edge\"><title>y&#45;&gt;f</title>\n",
       "<path fill=\"none\" stroke=\"black\" d=\"M92.1786,-72.055C93.1698,-64.3456 94.368,-55.0269 95.4817,-46.3642\"/>\n",
       "<polygon fill=\"black\" stroke=\"black\" points=\"98.975,-46.64 96.7789,-36.2753 92.0322,-45.7473 98.975,-46.64\"/>\n",
       "</g>\n",
       "<!-- y&#45;&gt;h -->\n",
       "<g id=\"edge8\" class=\"edge\"><title>y&#45;&gt;h</title>\n",
       "<path fill=\"none\" stroke=\"black\" d=\"M76.6393,-74.1548C68.1197,-64.6885 56.9146,-52.2384 47.3065,-41.5628\"/>\n",
       "<polygon fill=\"black\" stroke=\"black\" points=\"49.6326,-38.9154 40.3414,-33.8238 44.4296,-43.5982 49.6326,-38.9154\"/>\n",
       "</g>\n",
       "<!-- e -->\n",
       "<g id=\"node7\" class=\"node\"><title>e</title>\n",
       "<ellipse fill=\"none\" stroke=\"black\" cx=\"154\" cy=\"-162\" rx=\"27\" ry=\"18\"/>\n",
       "<text text-anchor=\"middle\" x=\"154\" y=\"-158.3\" font-family=\"Times,serif\" font-size=\"14.00\">e</text>\n",
       "</g>\n",
       "<!-- d&#45;&gt;e -->\n",
       "<g id=\"edge9\" class=\"edge\"><title>d&#45;&gt;e</title>\n",
       "<path fill=\"none\" stroke=\"black\" d=\"M154,-215.697C154,-207.983 154,-198.712 154,-190.112\"/>\n",
       "<polygon fill=\"black\" stroke=\"black\" points=\"157.5,-190.104 154,-180.104 150.5,-190.104 157.5,-190.104\"/>\n",
       "</g>\n",
       "<!-- e&#45;&gt;y -->\n",
       "<g id=\"edge10\" class=\"edge\"><title>e&#45;&gt;y</title>\n",
       "<path fill=\"none\" stroke=\"black\" d=\"M140.427,-146.155C131.688,-136.596 120.166,-123.994 110.342,-113.249\"/>\n",
       "<polygon fill=\"black\" stroke=\"black\" points=\"112.884,-110.842 103.553,-105.824 107.718,-115.566 112.884,-110.842\"/>\n",
       "</g>\n",
       "</g>\n",
       "</svg>\n"
      ],
      "text/plain": [
       "<graphviz.dot.Digraph at 0x7fddf1d5eb00>"
      ]
     },
     "execution_count": 14,
     "metadata": {},
     "output_type": "execute_result"
    }
   ],
   "source": [
    "from causalgraphicalmodels.examples import big_csm\n",
    "\n",
    "example_cgm = big_csm.cgm\n",
    "example_cgm.draw()"
   ]
  },
  {
   "cell_type": "markdown",
   "metadata": {},
   "source": [
    "There are two backdoor paths between $X$ and $Y$:"
   ]
  },
  {
   "cell_type": "code",
   "execution_count": 15,
   "metadata": {},
   "outputs": [
    {
     "data": {
      "text/plain": [
       "[['x', 'a', 'h', 'y'], ['x', 'b', 'd', 'e', 'y']]"
      ]
     },
     "execution_count": 15,
     "metadata": {},
     "output_type": "execute_result"
    }
   ],
   "source": [
    "example_cgm.get_all_backdoor_paths(\"x\", \"y\")"
   ]
  },
  {
   "cell_type": "markdown",
   "metadata": {},
   "source": [
    "But because $h$ acts as a collider in the first path, it is blocked unless conditioned on. To find a valid adjustment set, we need a set which blocks this path. Any of the variables $B$, $D$, $E$ would work, as well as any combination of the above. We can also include any other variable in this set, as long as it doesn't create new paths. Adding $H$, $F$ or $C$ to the adjustment set would create a new path, making the adjustment set invalid: "
   ]
  },
  {
   "cell_type": "code",
   "execution_count": 16,
   "metadata": {},
   "outputs": [
    {
     "data": {
      "text/plain": [
       "True"
      ]
     },
     "execution_count": 16,
     "metadata": {},
     "output_type": "execute_result"
    }
   ],
   "source": [
    "example_cgm.is_valid_adjustment_set(\"x\", \"y\", {\"b\", \"d\", \"e\"})"
   ]
  },
  {
   "cell_type": "code",
   "execution_count": 17,
   "metadata": {},
   "outputs": [
    {
     "data": {
      "text/plain": [
       "False"
      ]
     },
     "execution_count": 17,
     "metadata": {},
     "output_type": "execute_result"
    }
   ],
   "source": [
    "example_cgm.is_valid_adjustment_set(\"x\", \"y\", {\"b\", \"d\", \"e\", \"h\"})"
   ]
  },
  {
   "cell_type": "markdown",
   "metadata": {},
   "source": [
    "We can compute all valid adjustment sets using the following:"
   ]
  },
  {
   "cell_type": "code",
   "execution_count": 18,
   "metadata": {},
   "outputs": [
    {
     "data": {
      "text/plain": [
       "frozenset({frozenset({'b'}),\n",
       "           frozenset({'b', 'd'}),\n",
       "           frozenset({'a', 'b', 'd'}),\n",
       "           frozenset({'b', 'e'}),\n",
       "           frozenset({'a', 'e'}),\n",
       "           frozenset({'a', 'b', 'e'}),\n",
       "           frozenset({'d'}),\n",
       "           frozenset({'a', 'd', 'e'}),\n",
       "           frozenset({'a', 'b'}),\n",
       "           frozenset({'e'}),\n",
       "           frozenset({'d', 'e'}),\n",
       "           frozenset({'b', 'd', 'e'}),\n",
       "           frozenset({'a', 'd'}),\n",
       "           frozenset({'a', 'b', 'd', 'e'})})"
      ]
     },
     "execution_count": 18,
     "metadata": {},
     "output_type": "execute_result"
    }
   ],
   "source": [
    "example_cgm.get_all_backdoor_adjustment_sets(\"x\", \"y\")"
   ]
  },
  {
   "cell_type": "markdown",
   "metadata": {},
   "source": [
    "For a full proof of the backdoor criteria, I suggest chapter 6 of the excellent book [Elements of Causal Inference](https://mitpress.mit.edu/books/elements-causal-inference), but some intuition about these requirements is that blocking all backdoor path accounts for any bias introduced by confounding variables, and the requirement that no descendants are conditioned on prevents any _new_ paths from being created.\n",
    "\n",
    "When all variables in a causal graphical model are observed, is alway a set which can be used for adjustment. If not all variables are observed, there can be causal statements which cannot be estimated from the observed data."
   ]
  },
  {
   "cell_type": "markdown",
   "metadata": {
    "collapsed": true
   },
   "source": [
    "# Relationship with Potential Outcomes\n",
    "\n",
    "Given the focus on potential outcomes that my previous post had, it is worth asking what the relationship between causal graphical models and them is. It turns out that the two approaches are exactly equivalent to each other, and a statement in one can be related to a statement in the other. \n",
    "\n",
    "There is a slight subtle point that so far I've treated causal graphical models as a way to make statements about _causal inference_ (how data would be generated if there is an intervention on the system), whereas potential outcomes describe _counterfactual inference_ (what would have happened to a system which had already been observed, if a different treatment had been applied), but it is possible to use CGMs/SCMs to reason about counterfactuals, although it is beyond these notes.\n",
    "\n",
    "That said, one of the main benefits of explicitly drawing out a causal graphical model of your system is that it makes clear whether or not conditional independence statements like\n",
    "\n",
    "$\\Cin{Y_{i}}{X}{Z}$\n",
    "\n",
    "are valid. \n",
    "\n",
    "To see how statements like this fit into CGMs, we need to start by expanding our system to include the potential outcomes:"
   ]
  },
  {
   "cell_type": "code",
   "execution_count": 19,
   "metadata": {},
   "outputs": [
    {
     "data": {
      "image/svg+xml": [
       "<?xml version=\"1.0\" encoding=\"UTF-8\" standalone=\"no\"?>\n",
       "<!DOCTYPE svg PUBLIC \"-//W3C//DTD SVG 1.1//EN\"\n",
       " \"http://www.w3.org/Graphics/SVG/1.1/DTD/svg11.dtd\">\n",
       "<!-- Generated by graphviz version 2.38.0 (20140413.2041)\n",
       " -->\n",
       "<!-- Title: %3 Pages: 1 -->\n",
       "<svg width=\"206pt\" height=\"188pt\"\n",
       " viewBox=\"0.00 0.00 206.00 188.00\" xmlns=\"http://www.w3.org/2000/svg\" xmlns:xlink=\"http://www.w3.org/1999/xlink\">\n",
       "<g id=\"graph0\" class=\"graph\" transform=\"scale(1 1) rotate(0) translate(4 184)\">\n",
       "<title>%3</title>\n",
       "<polygon fill=\"white\" stroke=\"none\" points=\"-4,4 -4,-184 202,-184 202,4 -4,4\"/>\n",
       "<!-- x -->\n",
       "<g id=\"node1\" class=\"node\"><title>x</title>\n",
       "<ellipse fill=\"none\" stroke=\"black\" cx=\"27\" cy=\"-90\" rx=\"27\" ry=\"18\"/>\n",
       "<text text-anchor=\"middle\" x=\"27\" y=\"-86.3\" font-family=\"Times,serif\" font-size=\"14.00\">x</text>\n",
       "</g>\n",
       "<!-- y -->\n",
       "<g id=\"node4\" class=\"node\"><title>y</title>\n",
       "<ellipse fill=\"none\" stroke=\"black\" cx=\"99\" cy=\"-18\" rx=\"27\" ry=\"18\"/>\n",
       "<text text-anchor=\"middle\" x=\"99\" y=\"-14.3\" font-family=\"Times,serif\" font-size=\"14.00\">y</text>\n",
       "</g>\n",
       "<!-- x&#45;&gt;y -->\n",
       "<g id=\"edge1\" class=\"edge\"><title>x&#45;&gt;y</title>\n",
       "<path fill=\"none\" stroke=\"black\" d=\"M41.5703,-74.8345C51.7499,-64.9376 65.5239,-51.5462 77.0306,-40.3591\"/>\n",
       "<polygon fill=\"black\" stroke=\"black\" points=\"79.4741,-42.865 84.2043,-33.3847 74.5945,-37.8461 79.4741,-42.865\"/>\n",
       "</g>\n",
       "<!-- y_0 -->\n",
       "<g id=\"node2\" class=\"node\"><title>y_0</title>\n",
       "<ellipse fill=\"none\" stroke=\"black\" cx=\"99\" cy=\"-90\" rx=\"27\" ry=\"18\"/>\n",
       "<text text-anchor=\"middle\" x=\"99\" y=\"-86.3\" font-family=\"Times,serif\" font-size=\"14.00\">y_0</text>\n",
       "</g>\n",
       "<!-- y_0&#45;&gt;y -->\n",
       "<g id=\"edge2\" class=\"edge\"><title>y_0&#45;&gt;y</title>\n",
       "<path fill=\"none\" stroke=\"black\" d=\"M99,-71.6966C99,-63.9827 99,-54.7125 99,-46.1124\"/>\n",
       "<polygon fill=\"black\" stroke=\"black\" points=\"102.5,-46.1043 99,-36.1043 95.5001,-46.1044 102.5,-46.1043\"/>\n",
       "</g>\n",
       "<!-- y_1 -->\n",
       "<g id=\"node3\" class=\"node\"><title>y_1</title>\n",
       "<ellipse fill=\"none\" stroke=\"black\" cx=\"171\" cy=\"-90\" rx=\"27\" ry=\"18\"/>\n",
       "<text text-anchor=\"middle\" x=\"171\" y=\"-86.3\" font-family=\"Times,serif\" font-size=\"14.00\">y_1</text>\n",
       "</g>\n",
       "<!-- y_1&#45;&gt;y -->\n",
       "<g id=\"edge3\" class=\"edge\"><title>y_1&#45;&gt;y</title>\n",
       "<path fill=\"none\" stroke=\"black\" d=\"M156.43,-74.8345C146.25,-64.9376 132.476,-51.5462 120.969,-40.3591\"/>\n",
       "<polygon fill=\"black\" stroke=\"black\" points=\"123.405,-37.8461 113.796,-33.3847 118.526,-42.865 123.405,-37.8461\"/>\n",
       "</g>\n",
       "<!-- z -->\n",
       "<g id=\"node5\" class=\"node\"><title>z</title>\n",
       "<ellipse fill=\"none\" stroke=\"black\" cx=\"99\" cy=\"-162\" rx=\"27\" ry=\"18\"/>\n",
       "<text text-anchor=\"middle\" x=\"99\" y=\"-158.3\" font-family=\"Times,serif\" font-size=\"14.00\">z</text>\n",
       "</g>\n",
       "<!-- z&#45;&gt;x -->\n",
       "<g id=\"edge4\" class=\"edge\"><title>z&#45;&gt;x</title>\n",
       "<path fill=\"none\" stroke=\"black\" d=\"M84.4297,-146.834C74.2501,-136.938 60.4761,-123.546 48.9694,-112.359\"/>\n",
       "<polygon fill=\"black\" stroke=\"black\" points=\"51.4055,-109.846 41.7957,-105.385 46.5259,-114.865 51.4055,-109.846\"/>\n",
       "</g>\n",
       "<!-- z&#45;&gt;y_0 -->\n",
       "<g id=\"edge5\" class=\"edge\"><title>z&#45;&gt;y_0</title>\n",
       "<path fill=\"none\" stroke=\"black\" d=\"M99,-143.697C99,-135.983 99,-126.712 99,-118.112\"/>\n",
       "<polygon fill=\"black\" stroke=\"black\" points=\"102.5,-118.104 99,-108.104 95.5001,-118.104 102.5,-118.104\"/>\n",
       "</g>\n",
       "<!-- z&#45;&gt;y_1 -->\n",
       "<g id=\"edge6\" class=\"edge\"><title>z&#45;&gt;y_1</title>\n",
       "<path fill=\"none\" stroke=\"black\" d=\"M113.57,-146.834C123.75,-136.938 137.524,-123.546 149.031,-112.359\"/>\n",
       "<polygon fill=\"black\" stroke=\"black\" points=\"151.474,-114.865 156.204,-105.385 146.595,-109.846 151.474,-114.865\"/>\n",
       "</g>\n",
       "</g>\n",
       "</svg>\n"
      ],
      "text/plain": [
       "<graphviz.dot.Digraph at 0x7fddf1d5eef0>"
      ]
     },
     "execution_count": 19,
     "metadata": {},
     "output_type": "execute_result"
    }
   ],
   "source": [
    "from causalgraphicalmodels.examples import simple_confounded_potential_outcomes\n",
    "\n",
    "simple_confounded_potential_outcomes.draw()"
   ]
  },
  {
   "cell_type": "markdown",
   "metadata": {},
   "source": [
    "Here $Y_{i}$ is the potential outcome for $X=i$, and the node $Y$ now the deterministic function $Y(X, Y_{1}, Y_{0}) = Y_{X}$.\n",
    "\n",
    "By examination, it should be clear that $\\Cin{Y_{i}}{X}{Z}$ holds. \n",
    "\n",
    "Looking at the graph, we see that by construction there are no direct paths from $X$ to the potential outcomes $Y_{i}$, only backdoor paths. This means the conditional independence statement holds as long as the set $Z$ blocks all backdoor paths between $Y$ and $X$, and does not create any new one. This is exactly the backdoor criteria.  "
   ]
  },
  {
   "cell_type": "markdown",
   "metadata": {},
   "source": [
    "# Actually Estimating Causal Effects \n",
    "\n",
    "In our example of the `simple_confounding` causal graphical model, we showed that to make estimates of $\\Pc{Y}{\\do{X}}$ we need a way of estimating the quantity $\\Pc{Y}{X, Z}$ from our observational data. \n",
    "\n",
    "Causal graphical models don't offer a way of doing this. They are a tool for answering question about _if_ we can make causal inferences, given an assumed structure, and how we would do this _if_ we can estimate statistical quantities like $\\Pc{Y}{X, Z}$. However, there are a number of statistical techniques we can use to make this estimate. For example, my previous most covered a number of ways to estimate the quantity $E[Y|X,Z]$ from potentially biased observations, which is often what we care about instead of the full distribution."
   ]
  },
  {
   "cell_type": "markdown",
   "metadata": {},
   "source": [
    "# Example Use Case\n",
    "\n",
    "We've been though a lot to reach this point, so it is good to reflect on how we can actually use causal graphical models to do something useful.\n",
    "\n",
    "Let's take another look at the following structural causal model:"
   ]
  },
  {
   "cell_type": "code",
   "execution_count": 20,
   "metadata": {},
   "outputs": [
    {
     "data": {
      "image/svg+xml": [
       "<?xml version=\"1.0\" encoding=\"UTF-8\" standalone=\"no\"?>\n",
       "<!DOCTYPE svg PUBLIC \"-//W3C//DTD SVG 1.1//EN\"\n",
       " \"http://www.w3.org/Graphics/SVG/1.1/DTD/svg11.dtd\">\n",
       "<!-- Generated by graphviz version 2.38.0 (20140413.2041)\n",
       " -->\n",
       "<!-- Title: %3 Pages: 1 -->\n",
       "<svg width=\"189pt\" height=\"332pt\"\n",
       " viewBox=\"0.00 0.00 189.00 332.00\" xmlns=\"http://www.w3.org/2000/svg\" xmlns:xlink=\"http://www.w3.org/1999/xlink\">\n",
       "<g id=\"graph0\" class=\"graph\" transform=\"scale(1 1) rotate(0) translate(4 328)\">\n",
       "<title>%3</title>\n",
       "<polygon fill=\"white\" stroke=\"none\" points=\"-4,4 -4,-328 185,-328 185,4 -4,4\"/>\n",
       "<!-- a -->\n",
       "<g id=\"node1\" class=\"node\"><title>a</title>\n",
       "<ellipse fill=\"none\" stroke=\"black\" cx=\"41\" cy=\"-306\" rx=\"27\" ry=\"18\"/>\n",
       "<text text-anchor=\"middle\" x=\"41\" y=\"-302.3\" font-family=\"Times,serif\" font-size=\"14.00\">a</text>\n",
       "</g>\n",
       "<!-- x -->\n",
       "<g id=\"node3\" class=\"node\"><title>x</title>\n",
       "<ellipse fill=\"none\" stroke=\"black\" cx=\"82\" cy=\"-234\" rx=\"27\" ry=\"18\"/>\n",
       "<text text-anchor=\"middle\" x=\"82\" y=\"-230.3\" font-family=\"Times,serif\" font-size=\"14.00\">x</text>\n",
       "</g>\n",
       "<!-- a&#45;&gt;x -->\n",
       "<g id=\"edge1\" class=\"edge\"><title>a&#45;&gt;x</title>\n",
       "<path fill=\"none\" stroke=\"black\" d=\"M50.5093,-288.765C55.5288,-280.195 61.7964,-269.494 67.4155,-259.9\"/>\n",
       "<polygon fill=\"black\" stroke=\"black\" points=\"70.5083,-261.545 72.5423,-251.147 64.4681,-258.007 70.5083,-261.545\"/>\n",
       "</g>\n",
       "<!-- h -->\n",
       "<g id=\"node9\" class=\"node\"><title>h</title>\n",
       "<ellipse fill=\"none\" stroke=\"black\" cx=\"27\" cy=\"-18\" rx=\"27\" ry=\"18\"/>\n",
       "<text text-anchor=\"middle\" x=\"27\" y=\"-14.3\" font-family=\"Times,serif\" font-size=\"14.00\">h</text>\n",
       "</g>\n",
       "<!-- a&#45;&gt;h -->\n",
       "<g id=\"edge2\" class=\"edge\"><title>a&#45;&gt;h</title>\n",
       "<path fill=\"none\" stroke=\"black\" d=\"M40.1662,-287.966C37.8324,-240.291 31.2188,-105.185 28.3525,-46.63\"/>\n",
       "<polygon fill=\"black\" stroke=\"black\" points=\"31.832,-46.1233 27.8472,-36.3065 24.8404,-46.4656 31.832,-46.1233\"/>\n",
       "</g>\n",
       "<!-- b -->\n",
       "<g id=\"node2\" class=\"node\"><title>b</title>\n",
       "<ellipse fill=\"none\" stroke=\"black\" cx=\"140\" cy=\"-306\" rx=\"27\" ry=\"18\"/>\n",
       "<text text-anchor=\"middle\" x=\"140\" y=\"-302.3\" font-family=\"Times,serif\" font-size=\"14.00\">b</text>\n",
       "</g>\n",
       "<!-- b&#45;&gt;x -->\n",
       "<g id=\"edge3\" class=\"edge\"><title>b&#45;&gt;x</title>\n",
       "<path fill=\"none\" stroke=\"black\" d=\"M127.415,-289.811C119.738,-280.546 109.774,-268.52 101.135,-258.094\"/>\n",
       "<polygon fill=\"black\" stroke=\"black\" points=\"103.636,-255.626 94.5606,-250.159 98.2457,-260.093 103.636,-255.626\"/>\n",
       "</g>\n",
       "<!-- d -->\n",
       "<g id=\"node6\" class=\"node\"><title>d</title>\n",
       "<ellipse fill=\"none\" stroke=\"black\" cx=\"154\" cy=\"-234\" rx=\"27\" ry=\"18\"/>\n",
       "<text text-anchor=\"middle\" x=\"154\" y=\"-230.3\" font-family=\"Times,serif\" font-size=\"14.00\">d</text>\n",
       "</g>\n",
       "<!-- b&#45;&gt;d -->\n",
       "<g id=\"edge4\" class=\"edge\"><title>b&#45;&gt;d</title>\n",
       "<path fill=\"none\" stroke=\"black\" d=\"M143.389,-288.055C144.931,-280.346 146.795,-271.027 148.527,-262.364\"/>\n",
       "<polygon fill=\"black\" stroke=\"black\" points=\"152.016,-262.768 150.545,-252.275 145.152,-261.395 152.016,-262.768\"/>\n",
       "</g>\n",
       "<!-- c -->\n",
       "<g id=\"node4\" class=\"node\"><title>c</title>\n",
       "<ellipse fill=\"none\" stroke=\"black\" cx=\"82\" cy=\"-162\" rx=\"27\" ry=\"18\"/>\n",
       "<text text-anchor=\"middle\" x=\"82\" y=\"-158.3\" font-family=\"Times,serif\" font-size=\"14.00\">c</text>\n",
       "</g>\n",
       "<!-- x&#45;&gt;c -->\n",
       "<g id=\"edge5\" class=\"edge\"><title>x&#45;&gt;c</title>\n",
       "<path fill=\"none\" stroke=\"black\" d=\"M82,-215.697C82,-207.983 82,-198.712 82,-190.112\"/>\n",
       "<polygon fill=\"black\" stroke=\"black\" points=\"85.5001,-190.104 82,-180.104 78.5001,-190.104 85.5001,-190.104\"/>\n",
       "</g>\n",
       "<!-- y -->\n",
       "<g id=\"node5\" class=\"node\"><title>y</title>\n",
       "<ellipse fill=\"none\" stroke=\"black\" cx=\"90\" cy=\"-90\" rx=\"27\" ry=\"18\"/>\n",
       "<text text-anchor=\"middle\" x=\"90\" y=\"-86.3\" font-family=\"Times,serif\" font-size=\"14.00\">y</text>\n",
       "</g>\n",
       "<!-- c&#45;&gt;y -->\n",
       "<g id=\"edge6\" class=\"edge\"><title>c&#45;&gt;y</title>\n",
       "<path fill=\"none\" stroke=\"black\" d=\"M83.9775,-143.697C84.8591,-135.983 85.9186,-126.712 86.9014,-118.112\"/>\n",
       "<polygon fill=\"black\" stroke=\"black\" points=\"90.387,-118.437 88.0452,-108.104 83.4323,-117.642 90.387,-118.437\"/>\n",
       "</g>\n",
       "<!-- f -->\n",
       "<g id=\"node8\" class=\"node\"><title>f</title>\n",
       "<ellipse fill=\"none\" stroke=\"black\" cx=\"99\" cy=\"-18\" rx=\"27\" ry=\"18\"/>\n",
       "<text text-anchor=\"middle\" x=\"99\" y=\"-14.3\" font-family=\"Times,serif\" font-size=\"14.00\">f</text>\n",
       "</g>\n",
       "<!-- y&#45;&gt;f -->\n",
       "<g id=\"edge7\" class=\"edge\"><title>y&#45;&gt;f</title>\n",
       "<path fill=\"none\" stroke=\"black\" d=\"M92.1786,-72.055C93.1698,-64.3456 94.368,-55.0269 95.4817,-46.3642\"/>\n",
       "<polygon fill=\"black\" stroke=\"black\" points=\"98.975,-46.64 96.7789,-36.2753 92.0322,-45.7473 98.975,-46.64\"/>\n",
       "</g>\n",
       "<!-- y&#45;&gt;h -->\n",
       "<g id=\"edge8\" class=\"edge\"><title>y&#45;&gt;h</title>\n",
       "<path fill=\"none\" stroke=\"black\" d=\"M76.6393,-74.1548C68.1197,-64.6885 56.9146,-52.2384 47.3065,-41.5628\"/>\n",
       "<polygon fill=\"black\" stroke=\"black\" points=\"49.6326,-38.9154 40.3414,-33.8238 44.4296,-43.5982 49.6326,-38.9154\"/>\n",
       "</g>\n",
       "<!-- e -->\n",
       "<g id=\"node7\" class=\"node\"><title>e</title>\n",
       "<ellipse fill=\"none\" stroke=\"black\" cx=\"154\" cy=\"-162\" rx=\"27\" ry=\"18\"/>\n",
       "<text text-anchor=\"middle\" x=\"154\" y=\"-158.3\" font-family=\"Times,serif\" font-size=\"14.00\">e</text>\n",
       "</g>\n",
       "<!-- d&#45;&gt;e -->\n",
       "<g id=\"edge9\" class=\"edge\"><title>d&#45;&gt;e</title>\n",
       "<path fill=\"none\" stroke=\"black\" d=\"M154,-215.697C154,-207.983 154,-198.712 154,-190.112\"/>\n",
       "<polygon fill=\"black\" stroke=\"black\" points=\"157.5,-190.104 154,-180.104 150.5,-190.104 157.5,-190.104\"/>\n",
       "</g>\n",
       "<!-- e&#45;&gt;y -->\n",
       "<g id=\"edge10\" class=\"edge\"><title>e&#45;&gt;y</title>\n",
       "<path fill=\"none\" stroke=\"black\" d=\"M140.427,-146.155C131.688,-136.596 120.166,-123.994 110.342,-113.249\"/>\n",
       "<polygon fill=\"black\" stroke=\"black\" points=\"112.884,-110.842 103.553,-105.824 107.718,-115.566 112.884,-110.842\"/>\n",
       "</g>\n",
       "</g>\n",
       "</svg>\n"
      ],
      "text/plain": [
       "<graphviz.dot.Digraph at 0x7fddf1d5ea20>"
      ]
     },
     "execution_count": 20,
     "metadata": {},
     "output_type": "execute_result"
    }
   ],
   "source": [
    "big_csm.cgm.draw()"
   ]
  },
  {
   "cell_type": "markdown",
   "metadata": {},
   "source": [
    "The [structure](https://github.com/ijmbarr/causalgraphicalmodels/blob/20e0ca1de90ccb0c4a569d9a92a0215d4e57cb3a/causalgraphicalmodels/examples.py#L56) in this model are just linear relationships between variables with Gaussian noise, with the exception of $X$, which is Bernoulli distributed. The whole thing is encapsulated in a `StructuralCausalModel` object which makes it easy to sample observational data from:"
   ]
  },
  {
   "cell_type": "code",
   "execution_count": 24,
   "metadata": {},
   "outputs": [
    {
     "data": {
      "text/html": [
       "<div>\n",
       "<style scoped>\n",
       "    .dataframe tbody tr th:only-of-type {\n",
       "        vertical-align: middle;\n",
       "    }\n",
       "\n",
       "    .dataframe tbody tr th {\n",
       "        vertical-align: top;\n",
       "    }\n",
       "\n",
       "    .dataframe thead th {\n",
       "        text-align: right;\n",
       "    }\n",
       "</style>\n",
       "<table border=\"1\" class=\"dataframe\">\n",
       "  <thead>\n",
       "    <tr style=\"text-align: right;\">\n",
       "      <th></th>\n",
       "      <th>a</th>\n",
       "      <th>b</th>\n",
       "      <th>c</th>\n",
       "      <th>d</th>\n",
       "      <th>e</th>\n",
       "      <th>f</th>\n",
       "      <th>h</th>\n",
       "      <th>x</th>\n",
       "      <th>y</th>\n",
       "    </tr>\n",
       "  </thead>\n",
       "  <tbody>\n",
       "    <tr>\n",
       "      <th>0</th>\n",
       "      <td>0.603161</td>\n",
       "      <td>0.257795</td>\n",
       "      <td>0.444241</td>\n",
       "      <td>-2.281652</td>\n",
       "      <td>-3.885364</td>\n",
       "      <td>2.090587</td>\n",
       "      <td>6.113105</td>\n",
       "      <td>1</td>\n",
       "      <td>3.365484</td>\n",
       "    </tr>\n",
       "    <tr>\n",
       "      <th>1</th>\n",
       "      <td>-0.458828</td>\n",
       "      <td>0.115166</td>\n",
       "      <td>0.259426</td>\n",
       "      <td>1.606859</td>\n",
       "      <td>3.133161</td>\n",
       "      <td>-0.918838</td>\n",
       "      <td>-4.949627</td>\n",
       "      <td>1</td>\n",
       "      <td>-2.632724</td>\n",
       "    </tr>\n",
       "    <tr>\n",
       "      <th>2</th>\n",
       "      <td>0.351749</td>\n",
       "      <td>-0.952573</td>\n",
       "      <td>-0.917270</td>\n",
       "      <td>1.221739</td>\n",
       "      <td>2.092312</td>\n",
       "      <td>-3.193525</td>\n",
       "      <td>-6.295003</td>\n",
       "      <td>0</td>\n",
       "      <td>-4.276620</td>\n",
       "    </tr>\n",
       "    <tr>\n",
       "      <th>3</th>\n",
       "      <td>-0.220264</td>\n",
       "      <td>-1.555728</td>\n",
       "      <td>0.334620</td>\n",
       "      <td>-0.073519</td>\n",
       "      <td>-1.108568</td>\n",
       "      <td>0.409045</td>\n",
       "      <td>3.386628</td>\n",
       "      <td>0</td>\n",
       "      <td>2.233647</td>\n",
       "    </tr>\n",
       "    <tr>\n",
       "      <th>4</th>\n",
       "      <td>1.094642</td>\n",
       "      <td>-0.040492</td>\n",
       "      <td>-1.016413</td>\n",
       "      <td>1.689674</td>\n",
       "      <td>2.542845</td>\n",
       "      <td>-5.001436</td>\n",
       "      <td>-6.745522</td>\n",
       "      <td>0</td>\n",
       "      <td>-6.606036</td>\n",
       "    </tr>\n",
       "  </tbody>\n",
       "</table>\n",
       "</div>"
      ],
      "text/plain": [
       "          a         b         c         d         e         f         h  x  \\\n",
       "0  0.603161  0.257795  0.444241 -2.281652 -3.885364  2.090587  6.113105  1   \n",
       "1 -0.458828  0.115166  0.259426  1.606859  3.133161 -0.918838 -4.949627  1   \n",
       "2  0.351749 -0.952573 -0.917270  1.221739  2.092312 -3.193525 -6.295003  0   \n",
       "3 -0.220264 -1.555728  0.334620 -0.073519 -1.108568  0.409045  3.386628  0   \n",
       "4  1.094642 -0.040492 -1.016413  1.689674  2.542845 -5.001436 -6.745522  0   \n",
       "\n",
       "          y  \n",
       "0  3.365484  \n",
       "1 -2.632724  \n",
       "2 -4.276620  \n",
       "3  2.233647  \n",
       "4 -6.606036  "
      ]
     },
     "execution_count": 24,
     "metadata": {},
     "output_type": "execute_result"
    }
   ],
   "source": [
    "big_csm.sample(5)"
   ]
  },
  {
   "cell_type": "markdown",
   "metadata": {},
   "source": [
    "Our goal will be to estimate the Average Treatment Effect of $X$ on $Y$. I will be using the ['causalinference'](https://github.com/laurencium/Causalinference) package to do this. The main question is which covariants should we use to adjust?\n",
    "\n",
    "Let's start by defining a function which calculates the ATE given variable adjustment sets:"
   ]
  },
  {
   "cell_type": "code",
   "execution_count": 22,
   "metadata": {},
   "outputs": [],
   "source": [
    "from causalinference import CausalModel\n",
    "\n",
    "def estimate_ate(dataset, adjustment_set=None, method=\"matching\"):\n",
    "    \"\"\"\n",
    "    Estimate the ATE of X on Y from from dataset when \n",
    "    adjusting using adjustment_set.\n",
    "    \n",
    "    Arguments\n",
    "    ---------\n",
    "    dataset: pd.DateFrame\n",
    "        dataframe of observations\n",
    "        \n",
    "    adjustment_set: iterable of variables or None\n",
    "    \n",
    "    method: str\n",
    "        adjustment method to use.    \n",
    "    \"\"\"\n",
    "    \n",
    "    if adjustment_set is None:\n",
    "        y0 = dataset.loc[lambda df: df.x == 0].y.mean()\n",
    "        y1 = dataset.loc[lambda df: df.x == 1].y.mean()\n",
    "        \n",
    "        y0_var = dataset.loc[lambda df: df.x == 0].y.var()\n",
    "        y1_var = dataset.loc[lambda df: df.x == 1].y.var()\n",
    "        \n",
    "        y0_n = dataset.loc[lambda df: df.x == 0].shape[0]\n",
    "        y1_n = dataset.loc[lambda df: df.x == 1].shape[0]\n",
    "        \n",
    "        return {\n",
    "            \"ate\": y1 - y0,\n",
    "            \"ate_se\": 2 * np.sqrt(y0_var/y0_n + y1_var/y1_n)\n",
    "        }\n",
    "\n",
    "    cm = CausalModel(\n",
    "        Y=dataset.y.values, \n",
    "        D=dataset.x.values, \n",
    "        X=dataset[adjustment_set].values\n",
    "    )\n",
    "\n",
    "    cm.est_via_ols()\n",
    "    cm.est_via_matching()\n",
    "    cm.est_propensity_s()\n",
    "    cm.est_via_weighting()\n",
    "\n",
    "    cm.stratify_s()\n",
    "    cm.est_via_blocking()\n",
    "    \n",
    "    results = {\n",
    "        \"ate\": cm.estimates[method][\"ate\"],\n",
    "        \"ate_se\": cm.estimates[method][\"ate_se\"]\n",
    "    }\n",
    "\n",
    "    return results"
   ]
  },
  {
   "cell_type": "code",
   "execution_count": 23,
   "metadata": {},
   "outputs": [
    {
     "data": {
      "text/plain": [
       "<matplotlib.collections.LineCollection at 0x7fddf1c22518>"
      ]
     },
     "execution_count": 23,
     "metadata": {},
     "output_type": "execute_result"
    },
    {
     "data": {
      "image/png": "[encoded data removed]",
      "text/plain": [
       "<matplotlib.figure.Figure at 0x7fddf1d1b438>"
      ]
     },
     "metadata": {},
     "output_type": "display_data"
    }
   ],
   "source": [
    "n_samples = 10000\n",
    "\n",
    "ds = big_csm.sample(n_samples)\n",
    "\n",
    "# this allows us to generate samples from an interventional distribution\n",
    "# where the value of X is assigned randomly as in an A/B test.\n",
    "ds_intervention = (\n",
    "    big_csm\n",
    "    .do(\"x\")\n",
    "    .sample(\n",
    "        n_samples=1000000, \n",
    "        set_values={\"x\": np.random.binomial(p=0.5, n=1, size=1000000)})\n",
    ")\n",
    "\n",
    "true_ate = estimate_ate(ds_intervention)[\"ate\"]\n",
    "\n",
    "# generate results for a number of different adjustment sets\n",
    "results = {\n",
    "    \"no_adjustment\": estimate_ate(ds),\n",
    "    \"adjustment_b\": estimate_ate(ds, [\"b\"]),\n",
    "    \"adjustment_bde\": estimate_ate(ds, [\"b\", \"d\", \"e\"]),\n",
    "    \"adjustment_bh\": estimate_ate(ds, [\"b\", \"h\"]),\n",
    "    \"adjustment_bc\": estimate_ate(ds, [\"b\", \"c\"]),\n",
    "    \"adjustment_everything\": estimate_ate(ds, [\"a\", \"b\", \"c\", \"d\", \"e\", \"f\", \"h\"]),\n",
    "\n",
    "}\n",
    "\n",
    "# plot the results\n",
    "x_label = list(results.keys())\n",
    "x = np.arange(len(x_label))\n",
    "y = [results[l][\"ate\"] for l in x_label]\n",
    "yerr = [results[l][\"ate_se\"] for l in x_label]\n",
    "\n",
    "plt.figure(figsize=(10,6))\n",
    "plt.errorbar(x=x, y=y, yerr=yerr, linestyle=\"none\", capsize=5, marker=\"o\")\n",
    "plt.xticks(x, x_label, rotation=45, fontsize=16)\n",
    "plt.title(\"Estimated ATE Size\", fontsize=18)\n",
    "xmin, xmax = plt.xlim()\n",
    "plt.hlines(true_ate, xmin, xmax, linestyles=\"dashed\")\n"
   ]
  },
  {
   "cell_type": "markdown",
   "metadata": {},
   "source": [
    "We can see that when we use the valid adjustment sets we get close to the true value, but excluding or including extra variables can make things worse. This is hopefully a warning about why it is not a good idea to use _all_ the features you have to correct for observational bias - you should always considering the structure that generated the data. Causal Graphical Models are an excellent way to do this."
   ]
  },
  {
   "cell_type": "markdown",
   "metadata": {},
   "source": [
    "# Conclusions\n",
    "\n",
    "Hopefully these notes have been a useful introduction Causal Graphical Models. There is still a lot that I haven't had a change to cover. Very loosely, work with them can be categorised in two area:\n",
    "\n",
    " - **Identification**: Given assumptions about the causal structure of a system, can we estimate influence of one variable on another.\n",
    " - **Discovery**: Given data, how can we estimate the causal structure of a system.\n",
    " \n",
    "The backdoor adjustment method is one example of identification discussed in these notes - it is not the only one. [It has been shown](https://www.aaai.org/Papers/AAAI/2006/AAAI06-191.pdf) that for partly observed causal graphical models it is possible to decide exactly whether or not a causal statement is identifiable and the rules of do-calculus are complete. \n",
    "\n",
    "In the other direction, learning causal structure is much more difficult. There are [some tools](http://www.phil.cmu.edu/tetrad/) out there to estimate structure, but in my experience, when guided only by the data they tend to produce nonsensical results. I suspect this is because given only limited observational data there often is not enough information to accurately estimate structure. There is some [interested work](https://arxiv.org/abs/1501.01332) on how to use combinations of observational data from different setting to try and infer structure, but I think in general this is an open problem.\n",
    "\n",
    "I hope to have a chance to discuss more of these areas in future posts."
   ]
  },
  {
   "cell_type": "markdown",
   "metadata": {
    "collapsed": true
   },
   "source": [
    "# Code\n",
    "\n",
    "You can find the notebook for this post on github [here](https://github.com/ijmbarr/notes-on-causal-inference)."
   ]
  }
 ],
 "metadata": {
  "kernelspec": {
   "display_name": "Python 3",
   "language": "python",
   "name": "python3"
  },
  "language_info": {
   "codemirror_mode": {
    "name": "ipython",
    "version": 3
   },
   "file_extension": ".py",
   "mimetype": "text/x-python",
   "name": "python",
   "nbconvert_exporter": "python",
   "pygments_lexer": "ipython3",
   "version": "3.6.3"
  }
 },
 "nbformat": 4,
 "nbformat_minor": 2
}
